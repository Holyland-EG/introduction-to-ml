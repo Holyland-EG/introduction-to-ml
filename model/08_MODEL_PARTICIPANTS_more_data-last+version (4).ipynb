{
 "cells": [
  {
   "cell_type": "code",
   "execution_count": 1,
   "metadata": {
    "collapsed": true
   },
   "outputs": [],
   "source": [
    "%load_ext autoreload\n",
    "%autoreload 2"
   ]
  },
  {
   "cell_type": "markdown",
   "metadata": {},
   "source": [
    "versions:\n",
    "    \n",
    "    * sklearn==0.20.0\n",
    "    \n",
    "    * xgboost==0.90"
   ]
  },
  {
   "cell_type": "code",
   "execution_count": 231,
   "metadata": {
    "collapsed": true
   },
   "outputs": [],
   "source": [
    "import sys\n",
    "sys.path.insert(0, '/opt/workspace/libs/')\n",
    "import sys\n",
    "import pandas as pd\n",
    "import joblib\n",
    "from xgboost import XGBClassifier\n",
    "from sklearn.model_selection import train_test_split, RandomizedSearchCV, StratifiedShuffleSplit, StratifiedKFold\n",
    "from sklearn.metrics import roc_auc_score, f1_score, accuracy_score, \\\n",
    "                            classification_report, precision_score, \\\n",
    "                            recall_score, roc_curve, precision_recall_curve, \\\n",
    "                            average_precision_score, make_scorer, confusion_matrix\n",
    "import numpy as np\n",
    "import gc\n",
    "import matplotlib.pyplot as plt\n",
    "import sys\n",
    "sys.path.insert(0, '/home/patrakova1-es_ca-sbrf-ru/notebooks/ds/visualization/')\n",
    "from plot import Plot\n",
    "\n",
    "%matplotlib inline"
   ]
  },
  {
   "cell_type": "code",
   "execution_count": 232,
   "metadata": {
    "collapsed": true
   },
   "outputs": [],
   "source": [
    "import warnings\n",
    "warnings.filterwarnings('ignore')"
   ]
  },
  {
   "cell_type": "markdown",
   "metadata": {},
   "source": [
    "Загрузка датасета"
   ]
  },
  {
   "cell_type": "code",
   "execution_count": 233,
   "metadata": {
    "collapsed": true
   },
   "outputs": [],
   "source": [
    "df=pd.read_csv(\"/tmp/_patrakova/overall_65m_10_2019.csv\", sep=';')"
   ]
  },
  {
   "cell_type": "code",
   "execution_count": 235,
   "metadata": {
    "collapsed": true
   },
   "outputs": [],
   "source": [
    "desc=df.describe().T"
   ]
  },
  {
   "cell_type": "code",
   "execution_count": 236,
   "metadata": {},
   "outputs": [
    {
     "data": {
      "text/plain": [
       "(69602429, 93)"
      ]
     },
     "execution_count": 236,
     "metadata": {},
     "output_type": "execute_result"
    }
   ],
   "source": [
    "df.shape"
   ]
  },
  {
   "cell_type": "code",
   "execution_count": 237,
   "metadata": {
    "collapsed": true
   },
   "outputs": [],
   "source": [
    "df = df[df['responce']!='responce']"
   ]
  },
  {
   "cell_type": "code",
   "execution_count": 238,
   "metadata": {
    "collapsed": true
   },
   "outputs": [],
   "source": [
    "df = df.dropna(subset=['responce'])"
   ]
  },
  {
   "cell_type": "code",
   "execution_count": 239,
   "metadata": {
    "collapsed": true
   },
   "outputs": [],
   "source": [
    "df.responce = df.responce.astype(int)"
   ]
  },
  {
   "cell_type": "markdown",
   "metadata": {},
   "source": [
    "Оставляем только те записи у которых первый уровень окпд совпадает"
   ]
  },
  {
   "cell_type": "code",
   "execution_count": 240,
   "metadata": {},
   "outputs": [
    {
     "data": {
      "text/plain": [
       "(65149218, 93)"
      ]
     },
     "execution_count": 240,
     "metadata": {},
     "output_type": "execute_result"
    }
   ],
   "source": [
    "df=df[df['okpd_number1_in_list']==1]\n",
    "df.shape"
   ]
  },
  {
   "cell_type": "code",
   "execution_count": 11,
   "metadata": {},
   "outputs": [
    {
     "data": {
      "text/plain": [
       "0    0.903275\n",
       "1    0.096725\n",
       "Name: responce, dtype: float64"
      ]
     },
     "execution_count": 11,
     "metadata": {},
     "output_type": "execute_result"
    }
   ],
   "source": [
    "df.responce.value_counts(normalize=True)"
   ]
  },
  {
   "cell_type": "code",
   "execution_count": 12,
   "metadata": {},
   "outputs": [
    {
     "data": {
      "text/plain": [
       "0    58847651\n",
       "1     6301567\n",
       "Name: responce, dtype: int64"
      ]
     },
     "execution_count": 12,
     "metadata": {},
     "output_type": "execute_result"
    }
   ],
   "source": [
    "df.responce.value_counts()"
   ]
  },
  {
   "cell_type": "code",
   "execution_count": 241,
   "metadata": {
    "collapsed": true
   },
   "outputs": [],
   "source": [
    "df['month_year']=df.calculation_date.apply(lambda x: x[:-3])"
   ]
  },
  {
   "cell_type": "code",
   "execution_count": 242,
   "metadata": {
    "collapsed": true
   },
   "outputs": [],
   "source": [
    "train_month=['2018-07',\n",
    " '2018-08',\n",
    " '2018-09',\n",
    " '2018-10',\n",
    " '2018-11',\n",
    " '2018-12',\n",
    " '2019-01',\n",
    " '2019-02',\n",
    " '2019-03',\n",
    " '2019-04',\n",
    " '2019-05'\n",
    "]\n",
    "test_month=['2019-06',\n",
    " '2019-07',\n",
    " '2019-08']"
   ]
  },
  {
   "cell_type": "code",
   "execution_count": 243,
   "metadata": {
    "collapsed": true
   },
   "outputs": [],
   "source": [
    "df=df[df.month_year.isin([   '2018-07',\n",
    "                             '2018-08',\n",
    "                             '2018-09',\n",
    "                             '2018-10',\n",
    "                             '2018-11',\n",
    "                             '2018-12',\n",
    "                             '2019-01',\n",
    "                             '2019-02',\n",
    "                             '2019-03',\n",
    "                             '2019-04',\n",
    "                             '2019-05',\n",
    "                             '2019-06',\n",
    "                             '2019-07',\n",
    "                             '2019-08'\n",
    "                            ])]"
   ]
  },
  {
   "cell_type": "code",
   "execution_count": 16,
   "metadata": {},
   "outputs": [
    {
     "data": {
      "text/plain": [
       "(60703642, 94)"
      ]
     },
     "execution_count": 16,
     "metadata": {},
     "output_type": "execute_result"
    }
   ],
   "source": [
    "df.shape"
   ]
  },
  {
   "cell_type": "markdown",
   "metadata": {},
   "source": [
    "## Проверка на пропуски и константные колонки"
   ]
  },
  {
   "cell_type": "code",
   "execution_count": 18,
   "metadata": {
    "collapsed": true
   },
   "outputs": [],
   "source": [
    "pd.set_option(\"display.max_columns\", 100)\n",
    "pd.set_option(\"display.max_rows\", 100)"
   ]
  },
  {
   "cell_type": "code",
   "execution_count": 31,
   "metadata": {
    "collapsed": true
   },
   "outputs": [],
   "source": [
    "nulls=df.isnull().sum(axis=0)"
   ]
  },
  {
   "cell_type": "code",
   "execution_count": 32,
   "metadata": {
    "collapsed": true
   },
   "outputs": [],
   "source": [
    "nulls=nulls/df.shape[0]"
   ]
  },
  {
   "cell_type": "code",
   "execution_count": 33,
   "metadata": {},
   "outputs": [
    {
     "data": {
      "text/plain": [
       "t_initial_price                      0.522802\n",
       "date_diff                            0.000000\n",
       "days_last_win                        0.016595\n",
       "days_last_participate                0.000000\n",
       "last_initial_price_3m                0.520450\n",
       "last_initial_price                   0.471906\n",
       "win_cnt_current_year                 0.152856\n",
       "participate_cnt_current_year         0.078863\n",
       "win_cnt_1m                           0.378100\n",
       "participate_cnt_1m                   0.228292\n",
       "participate_cnt_3m                   0.077286\n",
       "win_cnt_3m                           0.168893\n",
       "win_cnt_6m                           0.063752\n",
       "participate_cnt_6m                   0.016775\n",
       "win_cnt_12m                          0.018328\n",
       "participate_cnt_12m                  0.000004\n",
       "win_overall                          0.016595\n",
       "participate_overall                  0.000000\n",
       "participation_lly                    0.219965\n",
       "participation_ly                     0.089345\n",
       "max_offer_ly                         0.463419\n",
       "max_offer_lly                        0.529927\n",
       "number_wins_lly                      0.276413\n",
       "number_wins_ly                       0.138064\n",
       "sum_tenders_lly                      0.784174\n",
       "sum_tenders_ly                       0.755771\n",
       "sum_tenders_current_year             0.239875\n",
       "number_contracts_lly                 0.241555\n",
       "number_contracts_ly                  0.115087\n",
       "sum_contracts_lly                    0.921912\n",
       "sum_contracts_ly                     0.924455\n",
       "revenue_1                            1.000000\n",
       "revenue_2                            1.000000\n",
       "avg_ensure_value_12m                 0.262078\n",
       "avg_ensure_value_6m                  0.411814\n",
       "avg_ensure_value_3m                  0.572389\n",
       "max_ensure_value_12m                 0.262078\n",
       "max_ensure_value_6m                  0.411814\n",
       "max_ensure_value_3m                  0.572389\n",
       "min_ensure_value_12m                 0.262078\n",
       "min_ensure_value_6m                  0.411814\n",
       "min_ensure_value_3m                  0.572389\n",
       "avg_ensure_sum_12m                   0.173099\n",
       "avg_ensure_sum_6m                    0.242837\n",
       "avg_ensure_sum_3m                    0.354908\n",
       "max_ensure_sum_12m                   0.173099\n",
       "max_ensure_sum_6m                    0.242837\n",
       "max_ensure_sum_3m                    0.354908\n",
       "min_ensure_sum_12m                   0.173099\n",
       "min_ensure_sum_6m                    0.242837\n",
       "min_ensure_sum_3m                    0.354908\n",
       "avg_initial_price_12m                0.014182\n",
       "avg_initial_price_6m                 0.049422\n",
       "avg_initial_price_3m                 0.143222\n",
       "max_initial_price_12m                0.014182\n",
       "max_initial_price_6m                 0.049422\n",
       "max_initial_price_3m                 0.143222\n",
       "min_initial_price_12m                0.014182\n",
       "min_initial_price_6m                 0.049422\n",
       "min_initial_price_3m                 0.143222\n",
       "other_regions_tenders                0.000000\n",
       "other_city_tenders                   0.000000\n",
       "revenue                              0.004283\n",
       "cur_customer_last_win_12m            0.512619\n",
       "cur_customer_last_participate_12m    0.162696\n",
       "cur_customer_last_win_6m             0.644108\n",
       "cur_customer_last_participate_6m     0.377640\n",
       "cur_customer_last_win_3m             0.778097\n",
       "cur_customer_last_participate_3m     0.602614\n",
       "cur_customer_last_win_1m             0.906171\n",
       "cur_customer_last_participate_1m     0.823393\n",
       "cur_customer_win_overall             0.490359\n",
       "cur_customer_participate_overall     0.125138\n",
       "cur_customer_last_win_12m_ratio      0.512619\n",
       "cur_customer_last_win_6m_ratio       0.644108\n",
       "cur_customer_last_win_3m_ratio       0.778097\n",
       "cur_customer_last_win_1m_ratio       0.906171\n",
       "cur_customer_overall_win_ratio       0.490359\n",
       "region_in_list                       0.000000\n",
       "okpd_letter_in_list                  0.000000\n",
       "okpd_number1_in_list                 0.000000\n",
       "okpd_number2_in_list                 0.000000\n",
       "okpd_number3_in_list                 0.000000\n",
       "okpd_number4_in_list                 0.000000\n",
       "federal_in_list                      0.000000\n",
       "region_in_popular                    0.000000\n",
       "city_in_popular                      0.000000\n",
       "revenue_initial_price                0.526230\n",
       "calculation_date                     0.000000\n",
       "t_open_dt                            0.000000\n",
       "t_tender_reg_num                     0.000000\n",
       "responce                             0.000000\n",
       "winner_flg                           0.000000\n",
       "month_year                           0.000000\n",
       "dtype: float64"
      ]
     },
     "execution_count": 33,
     "metadata": {},
     "output_type": "execute_result"
    }
   ],
   "source": [
    "nulls.head(100)"
   ]
  },
  {
   "cell_type": "code",
   "execution_count": 34,
   "metadata": {},
   "outputs": [
    {
     "data": {
      "text/plain": [
       "sum_tenders_lly                     0.784174\n",
       "sum_tenders_ly                      0.755771\n",
       "sum_contracts_lly                   0.921912\n",
       "sum_contracts_ly                    0.924455\n",
       "revenue_1                           1.000000\n",
       "revenue_2                           1.000000\n",
       "cur_customer_last_win_3m            0.778097\n",
       "cur_customer_last_win_1m            0.906171\n",
       "cur_customer_last_participate_1m    0.823393\n",
       "cur_customer_last_win_3m_ratio      0.778097\n",
       "cur_customer_last_win_1m_ratio      0.906171\n",
       "dtype: float64"
      ]
     },
     "execution_count": 34,
     "metadata": {},
     "output_type": "execute_result"
    }
   ],
   "source": [
    "nulls[nulls>0.70]"
   ]
  },
  {
   "cell_type": "markdown",
   "metadata": {},
   "source": [
    "Признаки revenue_1 и revenue_2 исключены"
   ]
  },
  {
   "cell_type": "code",
   "execution_count": 244,
   "metadata": {
    "collapsed": true
   },
   "outputs": [],
   "source": [
    "features=['t_initial_price', 'date_diff', 'days_last_win',\n",
    "       'days_last_participate', 'last_initial_price_3m', 'last_initial_price',\n",
    "       'win_cnt_current_year', 'participate_cnt_current_year', 'win_cnt_1m',\n",
    "       'participate_cnt_1m', 'participate_cnt_3m', 'win_cnt_3m', 'win_cnt_6m',\n",
    "       'participate_cnt_6m', 'win_cnt_12m', 'participate_cnt_12m',\n",
    "       'win_overall', 'participate_overall', 'participation_lly',\n",
    "       'participation_ly', 'max_offer_ly', 'max_offer_lly', 'number_wins_lly',\n",
    "       'number_wins_ly', 'sum_tenders_lly', 'sum_tenders_ly',\n",
    "       'sum_tenders_current_year', 'number_contracts_lly',\n",
    "       'number_contracts_ly', 'sum_contracts_lly', 'sum_contracts_ly',\n",
    "       'avg_ensure_value_12m', 'avg_ensure_value_6m',\n",
    "       'avg_ensure_value_3m', 'max_ensure_value_12m', 'max_ensure_value_6m',\n",
    "       'max_ensure_value_3m', 'min_ensure_value_12m', 'min_ensure_value_6m',\n",
    "       'min_ensure_value_3m', 'avg_ensure_sum_12m', 'avg_ensure_sum_6m',\n",
    "       'avg_ensure_sum_3m', 'max_ensure_sum_12m', 'max_ensure_sum_6m',\n",
    "       'max_ensure_sum_3m', 'min_ensure_sum_12m', 'min_ensure_sum_6m',\n",
    "       'min_ensure_sum_3m', 'avg_initial_price_12m', 'avg_initial_price_6m',\n",
    "       'avg_initial_price_3m', 'max_initial_price_12m', 'max_initial_price_6m',\n",
    "       'max_initial_price_3m', 'min_initial_price_12m', 'min_initial_price_6m',\n",
    "       'min_initial_price_3m', 'other_regions_tenders', 'other_city_tenders',\n",
    "       'revenue', 'cur_customer_last_win_12m',\n",
    "       'cur_customer_last_participate_12m', 'cur_customer_last_win_6m',\n",
    "       'cur_customer_last_participate_6m', 'cur_customer_last_win_3m',\n",
    "       'cur_customer_last_participate_3m', 'cur_customer_last_win_1m',\n",
    "       'cur_customer_last_participate_1m', 'cur_customer_win_overall',\n",
    "       'cur_customer_participate_overall', 'cur_customer_last_win_12m_ratio',\n",
    "       'cur_customer_last_win_6m_ratio', 'cur_customer_last_win_3m_ratio',\n",
    "       'cur_customer_last_win_1m_ratio', 'cur_customer_overall_win_ratio',\n",
    "       'region_in_list', 'okpd_letter_in_list',\n",
    "       'okpd_number2_in_list', 'okpd_number3_in_list', 'okpd_number4_in_list',\n",
    "       'federal_in_list', 'region_in_popular', 'city_in_popular', 'revenue_initial_price']\n",
    "\n",
    "target_col='responce'\n",
    "target_win='winner_flg'"
   ]
  },
  {
   "cell_type": "code",
   "execution_count": 245,
   "metadata": {
    "collapsed": true
   },
   "outputs": [],
   "source": [
    "df[features]=df[features].astype(float)"
   ]
  },
  {
   "cell_type": "code",
   "execution_count": 22,
   "metadata": {},
   "outputs": [
    {
     "data": {
      "text/plain": [
       "(60703642, 94)"
      ]
     },
     "execution_count": 22,
     "metadata": {},
     "output_type": "execute_result"
    }
   ],
   "source": [
    "df.shape"
   ]
  },
  {
   "cell_type": "code",
   "execution_count": 246,
   "metadata": {
    "collapsed": true
   },
   "outputs": [],
   "source": [
    "df=df.drop_duplicates(subset=df.columns[1:])"
   ]
  },
  {
   "cell_type": "code",
   "execution_count": 24,
   "metadata": {},
   "outputs": [
    {
     "data": {
      "text/plain": [
       "(54797502, 94)"
      ]
     },
     "execution_count": 24,
     "metadata": {},
     "output_type": "execute_result"
    }
   ],
   "source": [
    "df.shape"
   ]
  },
  {
   "cell_type": "markdown",
   "metadata": {},
   "source": [
    "### Разбивка на train и test по месяцам"
   ]
  },
  {
   "cell_type": "code",
   "execution_count": 30,
   "metadata": {
    "collapsed": true
   },
   "outputs": [],
   "source": [
    "X_train, y_train = df[df.month_year.isin(train_month)][features], df[df.month_year.isin(train_month)]['responce'] \n",
    "X_test, y_test = df[df.month_year.isin(test_month)][features], df[df.month_year.isin(test_month)]['responce'] "
   ]
  },
  {
   "cell_type": "code",
   "execution_count": 31,
   "metadata": {},
   "outputs": [
    {
     "data": {
      "text/plain": [
       "28"
      ]
     },
     "execution_count": 31,
     "metadata": {},
     "output_type": "execute_result"
    }
   ],
   "source": [
    "del df\n",
    "\n",
    "gc.collect()"
   ]
  },
  {
   "cell_type": "code",
   "execution_count": 26,
   "metadata": {},
   "outputs": [
    {
     "data": {
      "text/plain": [
       "0    0.914316\n",
       "1    0.085684\n",
       "Name: responce, dtype: float64"
      ]
     },
     "execution_count": 26,
     "metadata": {},
     "output_type": "execute_result"
    }
   ],
   "source": [
    "y_train.value_counts(normalize=True)"
   ]
  },
  {
   "cell_type": "code",
   "execution_count": 27,
   "metadata": {},
   "outputs": [
    {
     "data": {
      "text/plain": [
       "0    0.917968\n",
       "1    0.082032\n",
       "Name: responce, dtype: float64"
      ]
     },
     "execution_count": 27,
     "metadata": {},
     "output_type": "execute_result"
    }
   ],
   "source": [
    "y_test.value_counts(normalize=True)"
   ]
  },
  {
   "cell_type": "code",
   "execution_count": 24,
   "metadata": {
    "collapsed": true
   },
   "outputs": [],
   "source": [
    "X_train.to_csv('/tmp/_patrakova/x_train.csv', sep=';')\n",
    "X_test.to_csv('/tmp/_patrakova/x_test.csv', sep=';')\n",
    "y_train.to_csv('/tmp/_patrakova/y_train.csv', sep=';')\n",
    "y_test.to_csv('/tmp/_patrakova/y_test.csv', sep=';')"
   ]
  },
  {
   "cell_type": "markdown",
   "metadata": {},
   "source": [
    "### Подбор модели"
   ]
  },
  {
   "cell_type": "code",
   "execution_count": 32,
   "metadata": {
    "collapsed": true
   },
   "outputs": [],
   "source": [
    "from xgboost import XGBClassifier\n",
    "from sklearn.tree import DecisionTreeClassifier\n",
    "from lightgbm import LGBMClassifier, plot_metric\n",
    "from sklearn.ensemble import RandomForestClassifier\n",
    "from sklearn.linear_model import LogisticRegression"
   ]
  },
  {
   "cell_type": "code",
   "execution_count": 33,
   "metadata": {
    "collapsed": true
   },
   "outputs": [],
   "source": [
    "classifiers = {\n",
    "    'DecisionTreeClassifier': DecisionTreeClassifier(max_depth=8, random_state=42),\n",
    "    'RandomForestClassifier': RandomForestClassifier(max_depth=8,  n_jobs=80,  class_weight='balanced', random_state=42),\n",
    "    'LogisticRegression': LogisticRegression(class_weight='balanced', random_state=42),\n",
    "    'XGBClassifier': XGBClassifier(scale_pos_weight=1.7, seed=42, n_jobs=80),\n",
    "    'LGBMClassifier': LGBMClassifier(n_estimators=100, silent=False, ntrhred=80, random_state=42, class_weight=True)\n",
    "}"
   ]
  },
  {
   "cell_type": "code",
   "execution_count": 34,
   "metadata": {
    "collapsed": true
   },
   "outputs": [],
   "source": [
    "def get_metrics(model, X, y):\n",
    "    y_pred = model.predict(X)\n",
    "    print(classification_report(y, y_pred, digits=5))\n",
    "    accuracy=model.score(X, y)\n",
    "    recall = recall_score(y, y_pred)\n",
    "    precision=precision_score(y, y_pred)\n",
    "    f1=f1_score(y, y_pred)\n",
    "    \n",
    "    return accuracy, recall, precision, f1\n",
    "\n",
    "def train_test_models(X_train, X_test, y_train,  y_test):\n",
    "    metrics=pd.DataFrame()\n",
    "\n",
    "    for name, model in classifiers.items():\n",
    "        print(name)\n",
    "        if name in ['DecisionTreeClassifier', 'RandomForestClassifier', 'AdaBoostClassifier', 'QuadraticDiscriminantAnalysis', 'LogisticRegression']:\n",
    "            X_train=X_train.fillna(0)\n",
    "            X_test=X_test.fillna(0)\n",
    "        model.fit(X_train, y_train)\n",
    "        tr=model.score(X_train, y_train)\n",
    "\n",
    "        #метрики на тестовой с исходным балансом классов\n",
    "        ts, recall_ts, precision_ts, f1_ts =  get_metrics(model, X_test, y_test)\n",
    "\n",
    "        metrics=metrics.append([[name, tr,  ts,  precision_ts, recall_ts, f1_ts]])\n",
    "        print('На отложенной тестовой выборке: ')\n",
    "        print('Precision: %7.5f, Recall: %7.5f, F_мера: %7.5f,  Test accuracy: %7.5f, ' % \n",
    "           (precision_ts, recall_ts, f1_ts, ts))\n",
    "        \n",
    "    return metrics"
   ]
  },
  {
   "cell_type": "code",
   "execution_count": 33,
   "metadata": {
    "scrolled": true
   },
   "outputs": [
    {
     "name": "stdout",
     "output_type": "stream",
     "text": [
      "RandomForestClassifier\n"
     ]
    },
    {
     "name": "stderr",
     "output_type": "stream",
     "text": [
      "/opt/cloudera/parcels/PYENV.ZNO0059623792/lib/python3.5/site-packages/sklearn/ensemble/forest.py:248: FutureWarning: The default value of n_estimators will change from 10 in version 0.20 to 100 in 0.22.\n",
      "  \"10 in version 0.20 to 100 in 0.22.\", FutureWarning)\n"
     ]
    },
    {
     "name": "stdout",
     "output_type": "stream",
     "text": [
      "              precision    recall  f1-score   support\n",
      "\n",
      "           0    0.97508   0.78543   0.87004   8321083\n",
      "           1    0.24409   0.77534   0.37129    743594\n",
      "\n",
      "   micro avg    0.78460   0.78460   0.78460   9064677\n",
      "   macro avg    0.60958   0.78038   0.62066   9064677\n",
      "weighted avg    0.91511   0.78460   0.82912   9064677\n",
      "\n",
      "На отложенной тестовой выборке: \n",
      "Precision: 0.24409, Recall: 0.77534, F_мера: 0.37129,  Test accuracy: 0.78460, \n",
      "XGBClassifier\n",
      "[14:21:21] WARNING: /workspace/src/learner.cc:686: Tree method is automatically selected to be 'approx' for faster speed. To use old behavior (exact greedy algorithm on single machine), set tree_method to 'exact'.\n",
      "              precision    recall  f1-score   support\n",
      "\n",
      "           0    0.94825   0.97503   0.96145   8321083\n",
      "           1    0.59148   0.40450   0.48043    743594\n",
      "\n",
      "   micro avg    0.92823   0.92823   0.92823   9064677\n",
      "   macro avg    0.76986   0.68977   0.72094   9064677\n",
      "weighted avg    0.91898   0.92823   0.92199   9064677\n",
      "\n",
      "На отложенной тестовой выборке: \n",
      "Precision: 0.59148, Recall: 0.40450, F_мера: 0.48043,  Test accuracy: 0.92823, \n",
      "LogisticRegression\n"
     ]
    },
    {
     "name": "stderr",
     "output_type": "stream",
     "text": [
      "/opt/cloudera/parcels/PYENV.ZNO0059623792/lib/python3.5/site-packages/sklearn/linear_model/logistic.py:432: FutureWarning: Default solver will be changed to 'lbfgs' in 0.22. Specify a solver to silence this warning.\n",
      "  FutureWarning)\n"
     ]
    },
    {
     "name": "stdout",
     "output_type": "stream",
     "text": [
      "              precision    recall  f1-score   support\n",
      "\n",
      "           0    0.92363   0.63701   0.75400   8321083\n",
      "           1    0.09180   0.41057   0.15005    743594\n",
      "\n",
      "   micro avg    0.61843   0.61843   0.61843   9064677\n",
      "   macro avg    0.50771   0.52379   0.45202   9064677\n",
      "weighted avg    0.85539   0.61843   0.70446   9064677\n",
      "\n",
      "На отложенной тестовой выборке: \n",
      "Precision: 0.09180, Recall: 0.41057, F_мера: 0.15005,  Test accuracy: 0.61843, \n",
      "LGBMClassifier\n",
      "              precision    recall  f1-score   support\n",
      "\n",
      "           0    0.93989   0.98728   0.96300   8321083\n",
      "           1    0.67336   0.29345   0.40876    743594\n",
      "\n",
      "   micro avg    0.93036   0.93036   0.93036   9064677\n",
      "   macro avg    0.80663   0.64036   0.68588   9064677\n",
      "weighted avg    0.91803   0.93036   0.91754   9064677\n",
      "\n",
      "На отложенной тестовой выборке: \n",
      "Precision: 0.67336, Recall: 0.29345, F_мера: 0.40876,  Test accuracy: 0.93036, \n",
      "DecisionTreeClassifier\n",
      "              precision    recall  f1-score   support\n",
      "\n",
      "           0    0.93915   0.98601   0.96201   8321083\n",
      "           1    0.64557   0.28511   0.39553    743594\n",
      "\n",
      "   micro avg    0.92852   0.92852   0.92852   9064677\n",
      "   macro avg    0.79236   0.63556   0.67877   9064677\n",
      "weighted avg    0.91507   0.92852   0.91554   9064677\n",
      "\n",
      "На отложенной тестовой выборке: \n",
      "Precision: 0.64557, Recall: 0.28511, F_мера: 0.39553,  Test accuracy: 0.92852, \n"
     ]
    }
   ],
   "source": [
    "metrics=train_test_models(X_train, X_test, y_train,  y_test)\n",
    "metrics.columns=['model', 'accuracy_train', 'accuracy_test',  'precision_test', 'recall_test', 'f-мера_test']      \n",
    "metrics.to_excel('metrics.xlsx', encoding='cp1251')"
   ]
  },
  {
   "cell_type": "code",
   "execution_count": 40,
   "metadata": {},
   "outputs": [
    {
     "data": {
      "text/html": [
       "<div>\n",
       "<style scoped>\n",
       "    .dataframe tbody tr th:only-of-type {\n",
       "        vertical-align: middle;\n",
       "    }\n",
       "\n",
       "    .dataframe tbody tr th {\n",
       "        vertical-align: top;\n",
       "    }\n",
       "\n",
       "    .dataframe thead th {\n",
       "        text-align: right;\n",
       "    }\n",
       "</style>\n",
       "<table border=\"1\" class=\"dataframe\">\n",
       "  <thead>\n",
       "    <tr style=\"text-align: right;\">\n",
       "      <th></th>\n",
       "      <th>model</th>\n",
       "      <th>accuracy_train</th>\n",
       "      <th>accuracy_test</th>\n",
       "      <th>precision_test</th>\n",
       "      <th>recall_test</th>\n",
       "      <th>f-мера_test</th>\n",
       "    </tr>\n",
       "  </thead>\n",
       "  <tbody>\n",
       "    <tr>\n",
       "      <th>0</th>\n",
       "      <td>RandomForestClassifier</td>\n",
       "      <td>0.801132</td>\n",
       "      <td>0.784600</td>\n",
       "      <td>0.244088</td>\n",
       "      <td>0.775340</td>\n",
       "      <td>0.371288</td>\n",
       "    </tr>\n",
       "    <tr>\n",
       "      <th>0</th>\n",
       "      <td>XGBClassifier</td>\n",
       "      <td>0.920757</td>\n",
       "      <td>0.928232</td>\n",
       "      <td>0.591476</td>\n",
       "      <td>0.404496</td>\n",
       "      <td>0.480435</td>\n",
       "    </tr>\n",
       "    <tr>\n",
       "      <th>0</th>\n",
       "      <td>LogisticRegression</td>\n",
       "      <td>0.666614</td>\n",
       "      <td>0.618434</td>\n",
       "      <td>0.091798</td>\n",
       "      <td>0.410575</td>\n",
       "      <td>0.150048</td>\n",
       "    </tr>\n",
       "    <tr>\n",
       "      <th>0</th>\n",
       "      <td>LGBMClassifier</td>\n",
       "      <td>0.925729</td>\n",
       "      <td>0.930363</td>\n",
       "      <td>0.673363</td>\n",
       "      <td>0.293448</td>\n",
       "      <td>0.408760</td>\n",
       "    </tr>\n",
       "    <tr>\n",
       "      <th>0</th>\n",
       "      <td>DecisionTreeClassifier</td>\n",
       "      <td>0.923731</td>\n",
       "      <td>0.928515</td>\n",
       "      <td>0.645570</td>\n",
       "      <td>0.285107</td>\n",
       "      <td>0.395533</td>\n",
       "    </tr>\n",
       "  </tbody>\n",
       "</table>\n",
       "</div>"
      ],
      "text/plain": [
       "                    model  accuracy_train  accuracy_test  precision_test  \\\n",
       "0  RandomForestClassifier        0.801132       0.784600        0.244088   \n",
       "0           XGBClassifier        0.920757       0.928232        0.591476   \n",
       "0      LogisticRegression        0.666614       0.618434        0.091798   \n",
       "0          LGBMClassifier        0.925729       0.930363        0.673363   \n",
       "0  DecisionTreeClassifier        0.923731       0.928515        0.645570   \n",
       "\n",
       "   recall_test  f-мера_test  \n",
       "0     0.775340     0.371288  \n",
       "0     0.404496     0.480435  \n",
       "0     0.410575     0.150048  \n",
       "0     0.293448     0.408760  \n",
       "0     0.285107     0.395533  "
      ]
     },
     "execution_count": 40,
     "metadata": {},
     "output_type": "execute_result"
    }
   ],
   "source": [
    "metrics"
   ]
  },
  {
   "cell_type": "markdown",
   "metadata": {},
   "source": [
    "## Отбор модели с 25 признаками"
   ]
  },
  {
   "cell_type": "code",
   "execution_count": 35,
   "metadata": {},
   "outputs": [
    {
     "data": {
      "text/plain": [
       "25"
      ]
     },
     "execution_count": 35,
     "metadata": {},
     "output_type": "execute_result"
    }
   ],
   "source": [
    "features_selected=open('done+participants_features.txt', 'r').read().split('\\n')\n",
    "len(features_selected)"
   ]
  },
  {
   "cell_type": "code",
   "execution_count": 36,
   "metadata": {
    "scrolled": true
   },
   "outputs": [
    {
     "name": "stdout",
     "output_type": "stream",
     "text": [
      "RandomForestClassifier\n",
      "              precision    recall  f1-score   support\n",
      "\n",
      "           0    0.97874   0.76743   0.86030   8321083\n",
      "           1    0.23813   0.81343   0.36841    743594\n",
      "\n",
      "   micro avg    0.77121   0.77121   0.77121   9064677\n",
      "   macro avg    0.60843   0.79043   0.61435   9064677\n",
      "weighted avg    0.91798   0.77121   0.81995   9064677\n",
      "\n",
      "На отложенной тестовой выборке: \n",
      "Precision: 0.23813, Recall: 0.81343, F_мера: 0.36841,  Test accuracy: 0.77121, \n",
      "LogisticRegression\n",
      "              precision    recall  f1-score   support\n",
      "\n",
      "           0    0.92084   0.78454   0.84724   8321083\n",
      "           1    0.09232   0.24524   0.13415    743594\n",
      "\n",
      "   micro avg    0.74030   0.74030   0.74030   9064677\n",
      "   macro avg    0.50658   0.51489   0.49069   9064677\n",
      "weighted avg    0.85287   0.74030   0.78874   9064677\n",
      "\n",
      "На отложенной тестовой выборке: \n",
      "Precision: 0.09232, Recall: 0.24524, F_мера: 0.13415,  Test accuracy: 0.74030, \n",
      "XGBClassifier\n",
      "[15:51:18] WARNING: /workspace/src/learner.cc:686: Tree method is automatically selected to be 'approx' for faster speed. To use old behavior (exact greedy algorithm on single machine), set tree_method to 'exact'.\n",
      "              precision    recall  f1-score   support\n",
      "\n",
      "           0    0.94781   0.97543   0.96142   8321083\n",
      "           1    0.59197   0.39894   0.47666    743594\n",
      "\n",
      "   micro avg    0.92814   0.92814   0.92814   9064677\n",
      "   macro avg    0.76989   0.68719   0.71904   9064677\n",
      "weighted avg    0.91862   0.92814   0.92165   9064677\n",
      "\n",
      "На отложенной тестовой выборке: \n",
      "Precision: 0.59197, Recall: 0.39894, F_мера: 0.47666,  Test accuracy: 0.92814, \n",
      "LGBMClassifier\n",
      "              precision    recall  f1-score   support\n",
      "\n",
      "           0    0.94033   0.98620   0.96272   8321083\n",
      "           1    0.66000   0.29975   0.41226    743594\n",
      "\n",
      "   micro avg    0.92989   0.92989   0.92989   9064677\n",
      "   macro avg    0.80017   0.64298   0.68749   9064677\n",
      "weighted avg    0.91734   0.92989   0.91757   9064677\n",
      "\n",
      "На отложенной тестовой выборке: \n",
      "Precision: 0.66000, Recall: 0.29975, F_мера: 0.41226,  Test accuracy: 0.92989, \n",
      "DecisionTreeClassifier\n",
      "              precision    recall  f1-score   support\n",
      "\n",
      "           0    0.94157   0.98376   0.96220   8321083\n",
      "           1    0.63554   0.31687   0.42289    743594\n",
      "\n",
      "   micro avg    0.92905   0.92905   0.92905   9064677\n",
      "   macro avg    0.78855   0.65031   0.69255   9064677\n",
      "weighted avg    0.91647   0.92905   0.91796   9064677\n",
      "\n",
      "На отложенной тестовой выборке: \n",
      "Precision: 0.63554, Recall: 0.31687, F_мера: 0.42289,  Test accuracy: 0.92905, \n"
     ]
    },
    {
     "data": {
      "text/html": [
       "<div>\n",
       "<style scoped>\n",
       "    .dataframe tbody tr th:only-of-type {\n",
       "        vertical-align: middle;\n",
       "    }\n",
       "\n",
       "    .dataframe tbody tr th {\n",
       "        vertical-align: top;\n",
       "    }\n",
       "\n",
       "    .dataframe thead th {\n",
       "        text-align: right;\n",
       "    }\n",
       "</style>\n",
       "<table border=\"1\" class=\"dataframe\">\n",
       "  <thead>\n",
       "    <tr style=\"text-align: right;\">\n",
       "      <th></th>\n",
       "      <th>model</th>\n",
       "      <th>accuracy_train</th>\n",
       "      <th>accuracy_test</th>\n",
       "      <th>precision_test</th>\n",
       "      <th>recall_test</th>\n",
       "      <th>f-мера_test</th>\n",
       "    </tr>\n",
       "  </thead>\n",
       "  <tbody>\n",
       "    <tr>\n",
       "      <th>0</th>\n",
       "      <td>RandomForestClassifier</td>\n",
       "      <td>0.774700</td>\n",
       "      <td>0.771207</td>\n",
       "      <td>0.238128</td>\n",
       "      <td>0.813428</td>\n",
       "      <td>0.368406</td>\n",
       "    </tr>\n",
       "    <tr>\n",
       "      <th>0</th>\n",
       "      <td>LogisticRegression</td>\n",
       "      <td>0.731074</td>\n",
       "      <td>0.740296</td>\n",
       "      <td>0.092322</td>\n",
       "      <td>0.245241</td>\n",
       "      <td>0.134145</td>\n",
       "    </tr>\n",
       "    <tr>\n",
       "      <th>0</th>\n",
       "      <td>XGBClassifier</td>\n",
       "      <td>0.920537</td>\n",
       "      <td>0.928137</td>\n",
       "      <td>0.591970</td>\n",
       "      <td>0.398944</td>\n",
       "      <td>0.476656</td>\n",
       "    </tr>\n",
       "    <tr>\n",
       "      <th>0</th>\n",
       "      <td>LGBMClassifier</td>\n",
       "      <td>0.924955</td>\n",
       "      <td>0.929890</td>\n",
       "      <td>0.660002</td>\n",
       "      <td>0.299750</td>\n",
       "      <td>0.412264</td>\n",
       "    </tr>\n",
       "    <tr>\n",
       "      <th>0</th>\n",
       "      <td>DecisionTreeClassifier</td>\n",
       "      <td>0.923553</td>\n",
       "      <td>0.929055</td>\n",
       "      <td>0.635535</td>\n",
       "      <td>0.316865</td>\n",
       "      <td>0.422887</td>\n",
       "    </tr>\n",
       "  </tbody>\n",
       "</table>\n",
       "</div>"
      ],
      "text/plain": [
       "                    model  accuracy_train  accuracy_test  precision_test  \\\n",
       "0  RandomForestClassifier        0.774700       0.771207        0.238128   \n",
       "0      LogisticRegression        0.731074       0.740296        0.092322   \n",
       "0           XGBClassifier        0.920537       0.928137        0.591970   \n",
       "0          LGBMClassifier        0.924955       0.929890        0.660002   \n",
       "0  DecisionTreeClassifier        0.923553       0.929055        0.635535   \n",
       "\n",
       "   recall_test  f-мера_test  \n",
       "0     0.813428     0.368406  \n",
       "0     0.245241     0.134145  \n",
       "0     0.398944     0.476656  \n",
       "0     0.299750     0.412264  \n",
       "0     0.316865     0.422887  "
      ]
     },
     "execution_count": 36,
     "metadata": {},
     "output_type": "execute_result"
    }
   ],
   "source": [
    "metrics_25=train_test_models(X_train[features_selected], X_test[features_selected], y_train,  y_test)\n",
    "metrics_25.columns=['model', 'accuracy_train', 'accuracy_test',  'precision_test', 'recall_test', 'f-мера_test']      \n",
    "metrics_25.to_excel('metrics_25.xlsx', encoding='cp1251')\n",
    "metrics_25"
   ]
  },
  {
   "cell_type": "markdown",
   "metadata": {},
   "source": [
    "### Отбор признаков"
   ]
  },
  {
   "cell_type": "code",
   "execution_count": 47,
   "metadata": {
    "collapsed": true
   },
   "outputs": [],
   "source": [
    "def get_metrics(y_pred, y):\n",
    "    print(classification_report(y, y_pred, digits=5, ))\n",
    "    recall = recall_score(y, y_pred)\n",
    "    precision=precision_score(y, y_pred)\n",
    "    f1=f1_score(y, y_pred)\n",
    "    \n",
    "    return recall, precision, f1"
   ]
  },
  {
   "cell_type": "code",
   "execution_count": 34,
   "metadata": {
    "collapsed": true
   },
   "outputs": [],
   "source": [
    "sys.path.insert(0, '/home/patrakova1-es_ca-sbrf-ru/notebooks/')\n",
    "\n",
    "from ds.feature_engineering.forward_permutation_feature_selection_cv import ForwardPermutationFeatureSelectionCV\n",
    "from ds.feature_engineering.forward_permutation_feature_selection import ForwardPermutationFeatureSelection\n",
    "from ds.feature_engineering.feature_importance import FeatureImportance\n",
    "from sklearn.preprocessing import binarize"
   ]
  },
  {
   "cell_type": "code",
   "execution_count": 35,
   "metadata": {},
   "outputs": [
    {
     "name": "stderr",
     "output_type": "stream",
     "text": [
      "/opt/cloudera/parcels/PYENV.ZNO0059623792/lib/python3.5/site-packages/sklearn/model_selection/_split.py:2069: FutureWarning: From version 0.21, test_size will always complement train_size unless both are specified.\n",
      "  FutureWarning)\n"
     ]
    }
   ],
   "source": [
    "X_train_per, X_test_per, y_train_per, y_test_per=train_test_split(X_train, y_train, train_size=0.7, random_state=42, stratify=y_train)"
   ]
  },
  {
   "cell_type": "code",
   "execution_count": 42,
   "metadata": {},
   "outputs": [
    {
     "data": {
      "text/plain": [
       "0    0.914316\n",
       "1    0.085684\n",
       "Name: responce, dtype: float64"
      ]
     },
     "execution_count": 42,
     "metadata": {},
     "output_type": "execute_result"
    }
   ],
   "source": [
    "y_train_per.value_counts(normalize=True)"
   ]
  },
  {
   "cell_type": "code",
   "execution_count": 43,
   "metadata": {},
   "outputs": [
    {
     "data": {
      "text/plain": [
       "0    0.914316\n",
       "1    0.085684\n",
       "Name: responce, dtype: float64"
      ]
     },
     "execution_count": 43,
     "metadata": {},
     "output_type": "execute_result"
    }
   ],
   "source": [
    "y_test_per.value_counts(normalize=True)"
   ]
  },
  {
   "cell_type": "code",
   "execution_count": 48,
   "metadata": {
    "collapsed": true
   },
   "outputs": [],
   "source": [
    "model=XGBClassifier(scale_pos_weight=1.7, seed=42, n_jobs=100)"
   ]
  },
  {
   "cell_type": "code",
   "execution_count": 49,
   "metadata": {},
   "outputs": [
    {
     "name": "stdout",
     "output_type": "stream",
     "text": [
      "[07:05:19] WARNING: /workspace/src/learner.cc:686: Tree method is automatically selected to be 'approx' for faster speed. To use old behavior (exact greedy algorithm on single machine), set tree_method to 'exact'.\n",
      "              precision    recall  f1-score   support\n",
      "\n",
      "           0    0.94389   0.97109   0.95730  12544275\n",
      "           1    0.55454   0.38403   0.45380   1175573\n",
      "\n",
      "   micro avg    0.92079   0.92079   0.92079  13719848\n",
      "   macro avg    0.74922   0.67756   0.70555  13719848\n",
      "weighted avg    0.91053   0.92079   0.91416  13719848\n",
      "\n",
      "На отложенной тестовой выборке: \n",
      "Precision: 0.55454, Recall: 0.38403, F_мера: 0.45380\n"
     ]
    }
   ],
   "source": [
    "model.fit(X_train_per, y_train_per)\n",
    "\n",
    "pred_xgboost_model=model.predict_proba(X_test_per.astype(float))[:,1]\n",
    "pred = binarize(pred_xgboost_model.reshape(-1,1), threshold=0.5).reshape(-1)\n",
    "recall_ts, precision_ts, f1_ts =  get_metrics(pred.astype(int), y_test_per.astype(int))\n",
    "                                                  \n",
    "print('На отложенной тестовой выборке: ')\n",
    "print('Precision: %7.5f, Recall: %7.5f, F_мера: %7.5f' % \n",
    "(precision_ts, recall_ts, f1_ts))"
   ]
  },
  {
   "cell_type": "code",
   "execution_count": 46,
   "metadata": {
    "collapsed": true
   },
   "outputs": [],
   "source": [
    "imp=FeatureImportance(X_train_per, X_test_per, y_train_per, y_test_per, model, metric='f1')"
   ]
  },
  {
   "cell_type": "code",
   "execution_count": 50,
   "metadata": {
    "scrolled": true
   },
   "outputs": [
    {
     "name": "stdout",
     "output_type": "stream",
     "text": [
      "AUC:0.87423, Precision:0.55454, Recall:0.38403, True:451459 of 814109, Total:1175573, Tr:0.50\n",
      "AUC:0.87296, Precision:0.55434, Recall:0.37986, True:446551 of 805556, Total:1175573, Tr:0.50\n",
      "AUC:0.87297, Precision:0.55446, Recall:0.37999, True:446706 of 805662, Total:1175573, Tr:0.50\n",
      "AUC:0.87233, Precision:0.55272, Recall:0.37751, True:443788 of 802915, Total:1175573, Tr:0.50\n",
      "AUC:0.87233, Precision:0.55281, Recall:0.37756, True:443854 of 802902, Total:1175573, Tr:0.50\n",
      "AUC:0.87423, Precision:0.55454, Recall:0.38403, True:451459 of 814109, Total:1175573, Tr:0.50\n",
      "AUC:0.87423, Precision:0.55454, Recall:0.38403, True:451459 of 814109, Total:1175573, Tr:0.50\n",
      "AUC:0.87220, Precision:0.55677, Recall:0.37914, True:445710 of 800523, Total:1175573, Tr:0.50\n",
      "AUC:0.87222, Precision:0.55667, Recall:0.37922, True:445801 of 800830, Total:1175573, Tr:0.50\n",
      "AUC:0.87420, Precision:0.55453, Recall:0.38394, True:451351 of 813928, Total:1175573, Tr:0.50\n",
      "AUC:0.87420, Precision:0.55452, Recall:0.38395, True:451359 of 813958, Total:1175573, Tr:0.50\n",
      "AUC:0.87418, Precision:0.55453, Recall:0.38391, True:451315 of 813865, Total:1175573, Tr:0.50\n",
      "AUC:0.87418, Precision:0.55455, Recall:0.38390, True:451305 of 813820, Total:1175573, Tr:0.50\n",
      "AUC:0.87412, Precision:0.55402, Recall:0.38356, True:450902 of 813875, Total:1175573, Tr:0.50\n",
      "AUC:0.87412, Precision:0.55406, Recall:0.38357, True:450910 of 813832, Total:1175573, Tr:0.50\n",
      "AUC:0.87421, Precision:0.55448, Recall:0.38388, True:451277 of 813873, Total:1175573, Tr:0.50\n",
      "AUC:0.87421, Precision:0.55452, Recall:0.38392, True:451329 of 813902, Total:1175573, Tr:0.50\n",
      "AUC:0.87419, Precision:0.55472, Recall:0.38291, True:450143 of 811478, Total:1175573, Tr:0.50\n",
      "AUC:0.87420, Precision:0.55469, Recall:0.38286, True:450080 of 811412, Total:1175573, Tr:0.50\n",
      "AUC:0.87356, Precision:0.55538, Recall:0.38077, True:447622 of 805971, Total:1175573, Tr:0.50\n",
      "AUC:0.87356, Precision:0.55534, Recall:0.38079, True:447651 of 806084, Total:1175573, Tr:0.50\n",
      "AUC:0.87421, Precision:0.55448, Recall:0.38377, True:451152 of 813650, Total:1175573, Tr:0.50\n",
      "AUC:0.87421, Precision:0.55448, Recall:0.38377, True:451155 of 813659, Total:1175573, Tr:0.50\n",
      "AUC:0.87423, Precision:0.55465, Recall:0.38359, True:450935 of 813007, Total:1175573, Tr:0.50\n",
      "AUC:0.87423, Precision:0.55466, Recall:0.38359, True:450943 of 813002, Total:1175573, Tr:0.50\n",
      "AUC:0.87423, Precision:0.55460, Recall:0.38339, True:450707 of 812675, Total:1175573, Tr:0.50\n",
      "AUC:0.87423, Precision:0.55460, Recall:0.38339, True:450705 of 812669, Total:1175573, Tr:0.50\n",
      "AUC:0.87361, Precision:0.55426, Recall:0.37898, True:445522 of 803818, Total:1175573, Tr:0.50\n",
      "AUC:0.87362, Precision:0.55432, Recall:0.37898, True:445515 of 803708, Total:1175573, Tr:0.50\n",
      "AUC:0.87421, Precision:0.55462, Recall:0.38292, True:450145 of 811631, Total:1175573, Tr:0.50\n",
      "AUC:0.87421, Precision:0.55462, Recall:0.38291, True:450138 of 811619, Total:1175573, Tr:0.50\n",
      "AUC:0.87401, Precision:0.55461, Recall:0.38112, True:448033 of 807835, Total:1175573, Tr:0.50\n",
      "AUC:0.87400, Precision:0.55455, Recall:0.38107, True:447975 of 807814, Total:1175573, Tr:0.50\n",
      "AUC:0.87409, Precision:0.55419, Recall:0.38397, True:451389 of 814503, Total:1175573, Tr:0.50\n",
      "AUC:0.87409, Precision:0.55426, Recall:0.38405, True:451475 of 814550, Total:1175573, Tr:0.50\n",
      "AUC:0.87399, Precision:0.55468, Recall:0.38350, True:450831 of 812781, Total:1175573, Tr:0.50\n",
      "AUC:0.87399, Precision:0.55468, Recall:0.38349, True:450821 of 812759, Total:1175573, Tr:0.50\n",
      "AUC:0.87416, Precision:0.55440, Recall:0.38292, True:450151 of 811954, Total:1175573, Tr:0.50\n",
      "AUC:0.87416, Precision:0.55443, Recall:0.38293, True:450161 of 811934, Total:1175573, Tr:0.50\n",
      "AUC:0.87367, Precision:0.55507, Recall:0.38150, True:448477 of 807971, Total:1175573, Tr:0.50\n",
      "AUC:0.87368, Precision:0.55495, Recall:0.38142, True:448386 of 807978, Total:1175573, Tr:0.50\n",
      "AUC:0.87423, Precision:0.55448, Recall:0.38386, True:451259 of 813844, Total:1175573, Tr:0.50\n",
      "AUC:0.87423, Precision:0.55448, Recall:0.38387, True:451268 of 813856, Total:1175573, Tr:0.50\n",
      "AUC:0.87423, Precision:0.55454, Recall:0.38403, True:451459 of 814109, Total:1175573, Tr:0.50\n",
      "AUC:0.87423, Precision:0.55454, Recall:0.38403, True:451459 of 814109, Total:1175573, Tr:0.50\n",
      "AUC:0.87421, Precision:0.55449, Recall:0.38406, True:451493 of 814248, Total:1175573, Tr:0.50\n",
      "AUC:0.87421, Precision:0.55449, Recall:0.38407, True:451500 of 814263, Total:1175573, Tr:0.50\n",
      "AUC:0.87413, Precision:0.55409, Recall:0.38362, True:450973 of 813894, Total:1175573, Tr:0.50\n",
      "AUC:0.87413, Precision:0.55411, Recall:0.38368, True:451049 of 814012, Total:1175573, Tr:0.50\n",
      "AUC:0.87423, Precision:0.55454, Recall:0.38403, True:451459 of 814109, Total:1175573, Tr:0.50\n",
      "AUC:0.87423, Precision:0.55454, Recall:0.38403, True:451459 of 814109, Total:1175573, Tr:0.50\n",
      "AUC:0.87423, Precision:0.55454, Recall:0.38403, True:451459 of 814109, Total:1175573, Tr:0.50\n",
      "AUC:0.87423, Precision:0.55454, Recall:0.38403, True:451459 of 814109, Total:1175573, Tr:0.50\n",
      "AUC:0.87413, Precision:0.55398, Recall:0.38324, True:450527 of 813252, Total:1175573, Tr:0.50\n",
      "AUC:0.87413, Precision:0.55403, Recall:0.38321, True:450496 of 813120, Total:1175573, Tr:0.50\n",
      "AUC:0.87416, Precision:0.55459, Recall:0.38377, True:451152 of 813493, Total:1175573, Tr:0.50\n",
      "AUC:0.87416, Precision:0.55459, Recall:0.38375, True:451129 of 813440, Total:1175573, Tr:0.50\n",
      "AUC:0.87416, Precision:0.55452, Recall:0.38383, True:451223 of 813725, Total:1175573, Tr:0.50\n",
      "AUC:0.87416, Precision:0.55453, Recall:0.38383, True:451226 of 813714, Total:1175573, Tr:0.50\n",
      "AUC:0.87423, Precision:0.55454, Recall:0.38403, True:451459 of 814109, Total:1175573, Tr:0.50\n",
      "AUC:0.87423, Precision:0.55454, Recall:0.38403, True:451459 of 814109, Total:1175573, Tr:0.50\n",
      "AUC:0.87423, Precision:0.55454, Recall:0.38403, True:451459 of 814109, Total:1175573, Tr:0.50\n",
      "AUC:0.87423, Precision:0.55454, Recall:0.38403, True:451459 of 814109, Total:1175573, Tr:0.50\n",
      "AUC:0.87423, Precision:0.55454, Recall:0.38403, True:451459 of 814109, Total:1175573, Tr:0.50\n",
      "AUC:0.87423, Precision:0.55454, Recall:0.38403, True:451459 of 814109, Total:1175573, Tr:0.50\n",
      "AUC:0.87423, Precision:0.55454, Recall:0.38403, True:451459 of 814109, Total:1175573, Tr:0.50\n",
      "AUC:0.87423, Precision:0.55454, Recall:0.38403, True:451459 of 814109, Total:1175573, Tr:0.50\n",
      "AUC:0.87422, Precision:0.55451, Recall:0.38344, True:450761 of 812898, Total:1175573, Tr:0.50\n",
      "AUC:0.87422, Precision:0.55452, Recall:0.38346, True:450783 of 812927, Total:1175573, Tr:0.50\n",
      "AUC:0.87413, Precision:0.55426, Recall:0.38369, True:451056 of 813799, Total:1175573, Tr:0.50\n",
      "AUC:0.87414, Precision:0.55428, Recall:0.38369, True:451055 of 813767, Total:1175573, Tr:0.50\n",
      "AUC:0.87422, Precision:0.55454, Recall:0.38381, True:451196 of 813637, Total:1175573, Tr:0.50\n",
      "AUC:0.87422, Precision:0.55454, Recall:0.38381, True:451195 of 813642, Total:1175573, Tr:0.50\n",
      "AUC:0.87423, Precision:0.55454, Recall:0.38403, True:451459 of 814109, Total:1175573, Tr:0.50\n",
      "AUC:0.87423, Precision:0.55454, Recall:0.38403, True:451459 of 814109, Total:1175573, Tr:0.50\n",
      "AUC:0.87419, Precision:0.55447, Recall:0.38377, True:451152 of 813669, Total:1175573, Tr:0.50\n",
      "AUC:0.87419, Precision:0.55448, Recall:0.38378, True:451156 of 813659, Total:1175573, Tr:0.50\n",
      "AUC:0.87411, Precision:0.55452, Recall:0.38103, True:447929 of 807785, Total:1175573, Tr:0.50\n",
      "AUC:0.87411, Precision:0.55453, Recall:0.38107, True:447970 of 807830, Total:1175573, Tr:0.50\n",
      "AUC:0.87410, Precision:0.55489, Recall:0.38123, True:448159 of 807651, Total:1175573, Tr:0.50\n",
      "AUC:0.87410, Precision:0.55489, Recall:0.38126, True:448196 of 807715, Total:1175573, Tr:0.50\n",
      "AUC:0.87425, Precision:0.55446, Recall:0.38401, True:451430 of 814176, Total:1175573, Tr:0.50\n",
      "AUC:0.87425, Precision:0.55441, Recall:0.38393, True:451337 of 814080, Total:1175573, Tr:0.50\n",
      "AUC:0.87423, Precision:0.55396, Recall:0.38427, True:451742 of 815476, Total:1175573, Tr:0.50\n",
      "AUC:0.87422, Precision:0.55395, Recall:0.38427, True:451737 of 815485, Total:1175573, Tr:0.50\n",
      "AUC:0.87423, Precision:0.55454, Recall:0.38403, True:451459 of 814109, Total:1175573, Tr:0.50\n",
      "AUC:0.87423, Precision:0.55454, Recall:0.38403, True:451459 of 814109, Total:1175573, Tr:0.50\n",
      "AUC:0.87415, Precision:0.55385, Recall:0.38372, True:451087 of 814451, Total:1175573, Tr:0.50\n"
     ]
    },
    {
     "name": "stdout",
     "output_type": "stream",
     "text": [
      "AUC:0.87414, Precision:0.55376, Recall:0.38372, True:451087 of 814585, Total:1175573, Tr:0.50\n",
      "AUC:0.87420, Precision:0.55450, Recall:0.38322, True:450504 of 812448, Total:1175573, Tr:0.50\n",
      "AUC:0.87420, Precision:0.55450, Recall:0.38323, True:450515 of 812469, Total:1175573, Tr:0.50\n",
      "AUC:0.87423, Precision:0.55454, Recall:0.38403, True:451459 of 814109, Total:1175573, Tr:0.50\n",
      "AUC:0.87423, Precision:0.55454, Recall:0.38403, True:451459 of 814109, Total:1175573, Tr:0.50\n",
      "AUC:0.87424, Precision:0.55461, Recall:0.38319, True:450465 of 812224, Total:1175573, Tr:0.50\n",
      "AUC:0.87424, Precision:0.55467, Recall:0.38320, True:450485 of 812169, Total:1175573, Tr:0.50\n",
      "AUC:0.87425, Precision:0.55483, Recall:0.38318, True:450456 of 811879, Total:1175573, Tr:0.50\n",
      "AUC:0.87426, Precision:0.55484, Recall:0.38319, True:450466 of 811882, Total:1175573, Tr:0.50\n",
      "AUC:0.87403, Precision:0.55542, Recall:0.38073, True:447571 of 805824, Total:1175573, Tr:0.50\n",
      "AUC:0.87402, Precision:0.55555, Recall:0.38078, True:447631 of 805746, Total:1175573, Tr:0.50\n",
      "AUC:0.87334, Precision:0.55360, Recall:0.37890, True:445430 of 804600, Total:1175573, Tr:0.50\n",
      "AUC:0.87337, Precision:0.55353, Recall:0.37896, True:445490 of 804815, Total:1175573, Tr:0.50\n",
      "AUC:0.87412, Precision:0.55485, Recall:0.38324, True:450532 of 811990, Total:1175573, Tr:0.50\n",
      "AUC:0.87411, Precision:0.55479, Recall:0.38320, True:450475 of 811971, Total:1175573, Tr:0.50\n",
      "AUC:0.87413, Precision:0.55488, Recall:0.38327, True:450563 of 812001, Total:1175573, Tr:0.50\n",
      "AUC:0.87412, Precision:0.55498, Recall:0.38334, True:450643 of 811996, Total:1175573, Tr:0.50\n",
      "AUC:0.87351, Precision:0.55472, Recall:0.38229, True:449406 of 810152, Total:1175573, Tr:0.50\n",
      "AUC:0.87352, Precision:0.55478, Recall:0.38236, True:449491 of 810213, Total:1175573, Tr:0.50\n",
      "AUC:0.87421, Precision:0.55450, Recall:0.38386, True:451255 of 813803, Total:1175573, Tr:0.50\n",
      "AUC:0.87421, Precision:0.55450, Recall:0.38387, True:451265 of 813817, Total:1175573, Tr:0.50\n",
      "AUC:0.87423, Precision:0.55454, Recall:0.38403, True:451459 of 814109, Total:1175573, Tr:0.50\n",
      "AUC:0.87423, Precision:0.55454, Recall:0.38403, True:451459 of 814109, Total:1175573, Tr:0.50\n",
      "AUC:0.87423, Precision:0.55466, Recall:0.38358, True:450932 of 812991, Total:1175573, Tr:0.50\n",
      "AUC:0.87423, Precision:0.55464, Recall:0.38358, True:450929 of 813017, Total:1175573, Tr:0.50\n",
      "AUC:0.87423, Precision:0.55454, Recall:0.38403, True:451459 of 814109, Total:1175573, Tr:0.50\n",
      "AUC:0.87423, Precision:0.55454, Recall:0.38403, True:451459 of 814109, Total:1175573, Tr:0.50\n",
      "AUC:0.87311, Precision:0.55555, Recall:0.37773, True:444046 of 799297, Total:1175573, Tr:0.50\n",
      "AUC:0.87306, Precision:0.55549, Recall:0.37773, True:444045 of 799379, Total:1175573, Tr:0.50\n",
      "AUC:0.87423, Precision:0.55454, Recall:0.38403, True:451459 of 814109, Total:1175573, Tr:0.50\n",
      "AUC:0.87423, Precision:0.55454, Recall:0.38403, True:451459 of 814109, Total:1175573, Tr:0.50\n",
      "AUC:0.87419, Precision:0.55447, Recall:0.38406, True:451486 of 814261, Total:1175573, Tr:0.50\n",
      "AUC:0.87419, Precision:0.55446, Recall:0.38406, True:451492 of 814289, Total:1175573, Tr:0.50\n",
      "AUC:0.87231, Precision:0.55368, Recall:0.37808, True:444460 of 802738, Total:1175573, Tr:0.50\n",
      "AUC:0.87231, Precision:0.55378, Recall:0.37806, True:444432 of 802539, Total:1175573, Tr:0.50\n",
      "AUC:0.87424, Precision:0.55507, Recall:0.38286, True:450085 of 810862, Total:1175573, Tr:0.50\n",
      "AUC:0.87424, Precision:0.55506, Recall:0.38287, True:450091 of 810888, Total:1175573, Tr:0.50\n",
      "AUC:0.87425, Precision:0.55546, Recall:0.38137, True:448333 of 807145, Total:1175573, Tr:0.50\n",
      "AUC:0.87426, Precision:0.55548, Recall:0.38138, True:448340 of 807126, Total:1175573, Tr:0.50\n",
      "AUC:0.87423, Precision:0.55456, Recall:0.38395, True:451360 of 813911, Total:1175573, Tr:0.50\n",
      "AUC:0.87423, Precision:0.55456, Recall:0.38395, True:451362 of 813915, Total:1175573, Tr:0.50\n",
      "AUC:0.87421, Precision:0.55646, Recall:0.37854, True:444996 of 799696, Total:1175573, Tr:0.50\n",
      "AUC:0.87421, Precision:0.55647, Recall:0.37868, True:445161 of 799978, Total:1175573, Tr:0.50\n",
      "AUC:0.87414, Precision:0.55497, Recall:0.38264, True:449827 of 810547, Total:1175573, Tr:0.50\n",
      "AUC:0.87414, Precision:0.55494, Recall:0.38264, True:449823 of 810581, Total:1175573, Tr:0.50\n",
      "AUC:0.87423, Precision:0.55454, Recall:0.38403, True:451459 of 814109, Total:1175573, Tr:0.50\n",
      "AUC:0.87423, Precision:0.55454, Recall:0.38403, True:451459 of 814109, Total:1175573, Tr:0.50\n",
      "AUC:0.87421, Precision:0.55447, Recall:0.38373, True:451105 of 813582, Total:1175573, Tr:0.50\n",
      "AUC:0.87421, Precision:0.55447, Recall:0.38373, True:451100 of 813570, Total:1175573, Tr:0.50\n",
      "AUC:0.87421, Precision:0.55451, Recall:0.38387, True:451268 of 813810, Total:1175573, Tr:0.50\n",
      "AUC:0.87421, Precision:0.55451, Recall:0.38387, True:451269 of 813809, Total:1175573, Tr:0.50\n",
      "AUC:0.87419, Precision:0.55455, Recall:0.38397, True:451383 of 813960, Total:1175573, Tr:0.50\n",
      "AUC:0.87419, Precision:0.55455, Recall:0.38397, True:451390 of 813979, Total:1175573, Tr:0.50\n",
      "AUC:0.70804, Precision:0.16342, Recall:0.10398, True:122235 of 747982, Total:1175573, Tr:0.50\n",
      "AUC:0.70836, Precision:0.16344, Recall:0.10417, True:122454 of 749214, Total:1175573, Tr:0.50\n",
      "AUC:0.87407, Precision:0.55419, Recall:0.38436, True:451849 of 815336, Total:1175573, Tr:0.50\n",
      "AUC:0.87407, Precision:0.55419, Recall:0.38438, True:451865 of 815367, Total:1175573, Tr:0.50\n",
      "AUC:0.87423, Precision:0.55454, Recall:0.38403, True:451459 of 814109, Total:1175573, Tr:0.50\n",
      "AUC:0.87423, Precision:0.55454, Recall:0.38403, True:451459 of 814109, Total:1175573, Tr:0.50\n",
      "AUC:0.87423, Precision:0.55454, Recall:0.38403, True:451459 of 814109, Total:1175573, Tr:0.50\n",
      "AUC:0.87423, Precision:0.55454, Recall:0.38403, True:451459 of 814109, Total:1175573, Tr:0.50\n",
      "AUC:0.87418, Precision:0.55442, Recall:0.38373, True:451102 of 813644, Total:1175573, Tr:0.50\n",
      "AUC:0.87418, Precision:0.55443, Recall:0.38373, True:451097 of 813617, Total:1175573, Tr:0.50\n",
      "AUC:0.87230, Precision:0.55369, Recall:0.37986, True:446551 of 806493, Total:1175573, Tr:0.50\n",
      "AUC:0.87232, Precision:0.55352, Recall:0.37967, True:446334 of 806362, Total:1175573, Tr:0.50\n",
      "AUC:0.86745, Precision:0.52876, Recall:0.39532, True:464726 of 878890, Total:1175573, Tr:0.50\n",
      "AUC:0.86752, Precision:0.52880, Recall:0.39522, True:464610 of 878610, Total:1175573, Tr:0.50\n",
      "AUC:0.87423, Precision:0.55454, Recall:0.38403, True:451459 of 814109, Total:1175573, Tr:0.50\n",
      "AUC:0.87423, Precision:0.55454, Recall:0.38403, True:451459 of 814109, Total:1175573, Tr:0.50\n",
      "AUC:0.86880, Precision:0.55858, Recall:0.36278, True:426480 of 763504, Total:1175573, Tr:0.50\n",
      "AUC:0.86875, Precision:0.55817, Recall:0.36223, True:425823 of 762898, Total:1175573, Tr:0.50\n",
      "AUC:0.86921, Precision:0.56265, Recall:0.33194, True:390220 of 693540, Total:1175573, Tr:0.50\n",
      "AUC:0.86926, Precision:0.56275, Recall:0.33188, True:390150 of 693291, Total:1175573, Tr:0.50\n",
      "AUC:0.84808, Precision:0.53771, Recall:0.30234, True:355425 of 660999, Total:1175573, Tr:0.50\n",
      "AUC:0.84792, Precision:0.53764, Recall:0.30262, True:355757 of 661695, Total:1175573, Tr:0.50\n",
      "AUC:0.87357, Precision:0.54638, Recall:0.38725, True:455237 of 833186, Total:1175573, Tr:0.50\n",
      "AUC:0.87356, Precision:0.54637, Recall:0.38718, True:455158 of 833059, Total:1175573, Tr:0.50\n",
      "AUC:0.85313, Precision:0.53948, Recall:0.38443, True:451928 of 837710, Total:1175573, Tr:0.50\n",
      "AUC:0.85321, Precision:0.53953, Recall:0.38424, True:451706 of 837228, Total:1175573, Tr:0.50\n",
      "AUC:0.87345, Precision:0.55179, Recall:0.38612, True:453912 of 822618, Total:1175573, Tr:0.50\n",
      "AUC:0.87344, Precision:0.55177, Recall:0.38614, True:453941 of 822693, Total:1175573, Tr:0.50\n",
      "AUC:0.87423, Precision:0.55454, Recall:0.38403, True:451459 of 814109, Total:1175573, Tr:0.50\n",
      "AUC:0.87423, Precision:0.55454, Recall:0.38403, True:451459 of 814109, Total:1175573, Tr:0.50\n"
     ]
    }
   ],
   "source": [
    "selected_features=imp.get_n_permutation_importance(model=model, n_jobs=1)"
   ]
  },
  {
   "cell_type": "code",
   "execution_count": 51,
   "metadata": {
    "scrolled": true
   },
   "outputs": [
    {
     "data": {
      "text/html": [
       "<div>\n",
       "<style scoped>\n",
       "    .dataframe tbody tr th:only-of-type {\n",
       "        vertical-align: middle;\n",
       "    }\n",
       "\n",
       "    .dataframe tbody tr th {\n",
       "        vertical-align: top;\n",
       "    }\n",
       "\n",
       "    .dataframe thead th {\n",
       "        text-align: right;\n",
       "    }\n",
       "</style>\n",
       "<table border=\"1\" class=\"dataframe\">\n",
       "  <thead>\n",
       "    <tr style=\"text-align: right;\">\n",
       "      <th></th>\n",
       "      <th>features</th>\n",
       "      <th>permutation_f1</th>\n",
       "    </tr>\n",
       "  </thead>\n",
       "  <tbody>\n",
       "    <tr>\n",
       "      <th>0</th>\n",
       "      <td>cur_customer_participate_overall</td>\n",
       "      <td>0.326707</td>\n",
       "    </tr>\n",
       "    <tr>\n",
       "      <th>0</th>\n",
       "      <td>okpd_number4_in_list</td>\n",
       "      <td>0.066748</td>\n",
       "    </tr>\n",
       "    <tr>\n",
       "      <th>0</th>\n",
       "      <td>okpd_number3_in_list</td>\n",
       "      <td>0.036274</td>\n",
       "    </tr>\n",
       "    <tr>\n",
       "      <th>0</th>\n",
       "      <td>okpd_number2_in_list</td>\n",
       "      <td>0.014461</td>\n",
       "    </tr>\n",
       "    <tr>\n",
       "      <th>0</th>\n",
       "      <td>date_diff</td>\n",
       "      <td>0.005187</td>\n",
       "    </tr>\n",
       "    <tr>\n",
       "      <th>0</th>\n",
       "      <td>region_in_popular</td>\n",
       "      <td>0.004967</td>\n",
       "    </tr>\n",
       "    <tr>\n",
       "      <th>0</th>\n",
       "      <td>revenue</td>\n",
       "      <td>0.004467</td>\n",
       "    </tr>\n",
       "    <tr>\n",
       "      <th>0</th>\n",
       "      <td>min_initial_price_3m</td>\n",
       "      <td>0.004123</td>\n",
       "    </tr>\n",
       "    <tr>\n",
       "      <th>0</th>\n",
       "      <td>avg_initial_price_12m</td>\n",
       "      <td>0.003910</td>\n",
       "    </tr>\n",
       "    <tr>\n",
       "      <th>0</th>\n",
       "      <td>participate_cnt_6m</td>\n",
       "      <td>0.003639</td>\n",
       "    </tr>\n",
       "    <tr>\n",
       "      <th>0</th>\n",
       "      <td>cur_customer_overall_win_ratio</td>\n",
       "      <td>0.003398</td>\n",
       "    </tr>\n",
       "    <tr>\n",
       "      <th>0</th>\n",
       "      <td>cur_customer_last_participate_6m</td>\n",
       "      <td>0.003233</td>\n",
       "    </tr>\n",
       "    <tr>\n",
       "      <th>0</th>\n",
       "      <td>t_initial_price</td>\n",
       "      <td>0.002996</td>\n",
       "    </tr>\n",
       "    <tr>\n",
       "      <th>0</th>\n",
       "      <td>days_last_participate</td>\n",
       "      <td>0.002699</td>\n",
       "    </tr>\n",
       "    <tr>\n",
       "      <th>0</th>\n",
       "      <td>min_ensure_value_6m</td>\n",
       "      <td>0.002113</td>\n",
       "    </tr>\n",
       "    <tr>\n",
       "      <th>0</th>\n",
       "      <td>participate_cnt_12m</td>\n",
       "      <td>0.002073</td>\n",
       "    </tr>\n",
       "    <tr>\n",
       "      <th>0</th>\n",
       "      <td>min_ensure_sum_3m</td>\n",
       "      <td>0.002027</td>\n",
       "    </tr>\n",
       "    <tr>\n",
       "      <th>0</th>\n",
       "      <td>participate_cnt_1m</td>\n",
       "      <td>0.002009</td>\n",
       "    </tr>\n",
       "    <tr>\n",
       "      <th>0</th>\n",
       "      <td>min_ensure_value_3m</td>\n",
       "      <td>0.001850</td>\n",
       "    </tr>\n",
       "    <tr>\n",
       "      <th>0</th>\n",
       "      <td>participation_ly</td>\n",
       "      <td>0.001696</td>\n",
       "    </tr>\n",
       "    <tr>\n",
       "      <th>0</th>\n",
       "      <td>cur_customer_last_participate_12m</td>\n",
       "      <td>0.001559</td>\n",
       "    </tr>\n",
       "    <tr>\n",
       "      <th>0</th>\n",
       "      <td>region_in_list</td>\n",
       "      <td>0.001445</td>\n",
       "    </tr>\n",
       "    <tr>\n",
       "      <th>0</th>\n",
       "      <td>max_initial_price_12m</td>\n",
       "      <td>0.001163</td>\n",
       "    </tr>\n",
       "    <tr>\n",
       "      <th>0</th>\n",
       "      <td>cur_customer_last_win_3m</td>\n",
       "      <td>0.000841</td>\n",
       "    </tr>\n",
       "    <tr>\n",
       "      <th>0</th>\n",
       "      <td>participation_lly</td>\n",
       "      <td>0.000824</td>\n",
       "    </tr>\n",
       "    <tr>\n",
       "      <th>0</th>\n",
       "      <td>win_cnt_1m</td>\n",
       "      <td>0.000772</td>\n",
       "    </tr>\n",
       "    <tr>\n",
       "      <th>0</th>\n",
       "      <td>win_cnt_12m</td>\n",
       "      <td>0.000761</td>\n",
       "    </tr>\n",
       "    <tr>\n",
       "      <th>0</th>\n",
       "      <td>sum_tenders_current_year</td>\n",
       "      <td>0.000743</td>\n",
       "    </tr>\n",
       "    <tr>\n",
       "      <th>0</th>\n",
       "      <td>cur_customer_last_win_12m</td>\n",
       "      <td>0.000642</td>\n",
       "    </tr>\n",
       "    <tr>\n",
       "      <th>0</th>\n",
       "      <td>federal_in_list</td>\n",
       "      <td>0.000598</td>\n",
       "    </tr>\n",
       "  </tbody>\n",
       "</table>\n",
       "</div>"
      ],
      "text/plain": [
       "                            features  permutation_f1\n",
       "0   cur_customer_participate_overall        0.326707\n",
       "0               okpd_number4_in_list        0.066748\n",
       "0               okpd_number3_in_list        0.036274\n",
       "0               okpd_number2_in_list        0.014461\n",
       "0                          date_diff        0.005187\n",
       "0                  region_in_popular        0.004967\n",
       "0                            revenue        0.004467\n",
       "0               min_initial_price_3m        0.004123\n",
       "0              avg_initial_price_12m        0.003910\n",
       "0                 participate_cnt_6m        0.003639\n",
       "0     cur_customer_overall_win_ratio        0.003398\n",
       "0   cur_customer_last_participate_6m        0.003233\n",
       "0                    t_initial_price        0.002996\n",
       "0              days_last_participate        0.002699\n",
       "0                min_ensure_value_6m        0.002113\n",
       "0                participate_cnt_12m        0.002073\n",
       "0                  min_ensure_sum_3m        0.002027\n",
       "0                 participate_cnt_1m        0.002009\n",
       "0                min_ensure_value_3m        0.001850\n",
       "0                   participation_ly        0.001696\n",
       "0  cur_customer_last_participate_12m        0.001559\n",
       "0                     region_in_list        0.001445\n",
       "0              max_initial_price_12m        0.001163\n",
       "0           cur_customer_last_win_3m        0.000841\n",
       "0                  participation_lly        0.000824\n",
       "0                         win_cnt_1m        0.000772\n",
       "0                        win_cnt_12m        0.000761\n",
       "0           sum_tenders_current_year        0.000743\n",
       "0          cur_customer_last_win_12m        0.000642\n",
       "0                    federal_in_list        0.000598"
      ]
     },
     "execution_count": 51,
     "metadata": {},
     "output_type": "execute_result"
    }
   ],
   "source": [
    "selected_features.sort_values(by='permutation_f1', ascending=False).head(30)"
   ]
  },
  {
   "cell_type": "code",
   "execution_count": 64,
   "metadata": {
    "collapsed": true
   },
   "outputs": [],
   "source": [
    "selected_features.sort_values(by='permutation_f1', ascending=False).to_excel('imp_permutation.xlsx')"
   ]
  },
  {
   "cell_type": "markdown",
   "metadata": {},
   "source": [
    "## 30 отобранных признаков"
   ]
  },
  {
   "cell_type": "code",
   "execution_count": 52,
   "metadata": {
    "collapsed": true
   },
   "outputs": [],
   "source": [
    "features_selected=selected_features.sort_values(by='permutation_f1', ascending=False)['features'].tolist()[:30]"
   ]
  },
  {
   "cell_type": "code",
   "execution_count": 53,
   "metadata": {
    "collapsed": true
   },
   "outputs": [],
   "source": [
    "model=XGBClassifier(nthread=100, seed=42, scale_pos_weight=1.7)"
   ]
  },
  {
   "cell_type": "code",
   "execution_count": 54,
   "metadata": {},
   "outputs": [
    {
     "name": "stdout",
     "output_type": "stream",
     "text": [
      "[14:08:26] WARNING: /workspace/src/learner.cc:686: Tree method is automatically selected to be 'approx' for faster speed. To use old behavior (exact greedy algorithm on single machine), set tree_method to 'exact'.\n"
     ]
    },
    {
     "data": {
      "text/plain": [
       "XGBClassifier(base_score=0.5, booster='gbtree', colsample_bylevel=1,\n",
       "       colsample_bynode=1, colsample_bytree=1, gamma=0, learning_rate=0.1,\n",
       "       max_delta_step=0, max_depth=3, min_child_weight=1, missing=None,\n",
       "       n_estimators=100, n_jobs=1, nthread=100,\n",
       "       objective='binary:logistic', random_state=0, reg_alpha=0,\n",
       "       reg_lambda=1, scale_pos_weight=1.7, seed=42, silent=None,\n",
       "       subsample=1, verbosity=1)"
      ]
     },
     "execution_count": 54,
     "metadata": {},
     "output_type": "execute_result"
    }
   ],
   "source": [
    "model.fit(X_train[features_selected].astype(float), y_train)"
   ]
  },
  {
   "cell_type": "code",
   "execution_count": 56,
   "metadata": {
    "collapsed": true
   },
   "outputs": [],
   "source": [
    "pred_xgboost_model=model.predict_proba(X_test[features_selected].astype(float))[:,1]"
   ]
  },
  {
   "cell_type": "code",
   "execution_count": 60,
   "metadata": {
    "collapsed": true
   },
   "outputs": [],
   "source": [
    "p=Plot()"
   ]
  },
  {
   "cell_type": "code",
   "execution_count": 81,
   "metadata": {},
   "outputs": [
    {
     "name": "stdout",
     "output_type": "stream",
     "text": [
      "Cross point:  34\n"
     ]
    },
    {
     "data": {
      "image/png": "[encoded data removed]",
      "text/plain": [
       "<matplotlib.figure.Figure at 0x7f947069f240>"
      ]
     },
     "metadata": {},
     "output_type": "display_data"
    }
   ],
   "source": [
    "p.precision_recall_threshold_curve(y_test, pred_xgboost_model)"
   ]
  },
  {
   "cell_type": "code",
   "execution_count": 58,
   "metadata": {
    "collapsed": true
   },
   "outputs": [],
   "source": [
    "pred = binarize(pred_xgboost_model.reshape(-1,1), threshold=0.5).reshape(-1)"
   ]
  },
  {
   "cell_type": "code",
   "execution_count": 59,
   "metadata": {},
   "outputs": [
    {
     "name": "stdout",
     "output_type": "stream",
     "text": [
      "              precision    recall  f1-score   support\n",
      "\n",
      "           0    0.94808   0.97523   0.96146   8321083\n",
      "           1    0.59209   0.40238   0.47914    743594\n",
      "\n",
      "   micro avg    0.92824   0.92824   0.92824   9064677\n",
      "   macro avg    0.77009   0.68881   0.72030   9064677\n",
      "weighted avg    0.91888   0.92824   0.92190   9064677\n",
      "\n",
      "На отложенной тестовой выборке: \n",
      "Precision: 0.59209, Recall: 0.40238, F_мера: 0.47914\n"
     ]
    }
   ],
   "source": [
    "recall_ts, precision_ts, f1_ts =  get_metrics(pred.astype(int), y_test.astype(int))\n",
    "                                                  \n",
    "print('На отложенной тестовой выборке: ')\n",
    "print('Precision: %7.5f, Recall: %7.5f, F_мера: %7.5f' % \n",
    "(precision_ts, recall_ts, f1_ts))"
   ]
  },
  {
   "cell_type": "markdown",
   "metadata": {},
   "source": [
    "## 25 отобранных признаков"
   ]
  },
  {
   "cell_type": "code",
   "execution_count": 82,
   "metadata": {
    "collapsed": true
   },
   "outputs": [],
   "source": [
    "features_selected=selected_features.sort_values(by='permutation_f1', ascending=False)['features'].tolist()[:25]"
   ]
  },
  {
   "cell_type": "code",
   "execution_count": 123,
   "metadata": {},
   "outputs": [
    {
     "name": "stdout",
     "output_type": "stream",
     "text": [
      "[11:19:16] WARNING: /workspace/src/learner.cc:686: Tree method is automatically selected to be 'approx' for faster speed. To use old behavior (exact greedy algorithm on single machine), set tree_method to 'exact'.\n"
     ]
    }
   ],
   "source": [
    "model=XGBClassifier(nthread=100, seed=42, scale_pos_weight=1.7)\n",
    "model.fit(X_train[features_selected].astype(float), y_train)\n",
    "pred_xgboost_model=model.predict_proba(X_test[features_selected].astype(float))[:,1]"
   ]
  },
  {
   "cell_type": "code",
   "execution_count": 148,
   "metadata": {},
   "outputs": [
    {
     "name": "stdout",
     "output_type": "stream",
     "text": [
      "Cross point:  34\n"
     ]
    },
    {
     "data": {
      "image/png": "[encoded data removed]",
      "text/plain": [
       "<matplotlib.figure.Figure at 0x7f14b59f4a58>"
      ]
     },
     "metadata": {},
     "output_type": "display_data"
    }
   ],
   "source": [
    "p.precision_recall_threshold_curve(y_test, pred_xgboost_model)"
   ]
  },
  {
   "cell_type": "code",
   "execution_count": 149,
   "metadata": {
    "collapsed": true
   },
   "outputs": [],
   "source": [
    "pred = binarize(pred_xgboost_model.reshape(-1,1), threshold=0.5).reshape(-1)"
   ]
  },
  {
   "cell_type": "code",
   "execution_count": 150,
   "metadata": {},
   "outputs": [
    {
     "name": "stdout",
     "output_type": "stream",
     "text": [
      "              precision    recall  f1-score   support\n",
      "\n",
      "           0    0.94781   0.97516   0.96129   8321083\n",
      "           1    0.58942   0.39910   0.47594    743594\n",
      "\n",
      "   micro avg    0.92790   0.92790   0.92790   9064677\n",
      "   macro avg    0.76861   0.68713   0.71861   9064677\n",
      "weighted avg    0.91841   0.92790   0.92147   9064677\n",
      "\n",
      "На отложенной тестовой выборке: \n",
      "Precision: 0.58942, Recall: 0.39910, F_мера: 0.47594\n"
     ]
    }
   ],
   "source": [
    "recall_ts, precision_ts, f1_ts =  get_metrics(pred.astype(int), y_test.astype(int))\n",
    "                                                  \n",
    "print('На отложенной тестовой выборке: ')\n",
    "print('Precision: %7.5f, Recall: %7.5f, F_мера: %7.5f' % \n",
    "(precision_ts, recall_ts, f1_ts))"
   ]
  },
  {
   "cell_type": "code",
   "execution_count": 87,
   "metadata": {},
   "outputs": [
    {
     "data": {
      "text/plain": [
       "523"
      ]
     },
     "execution_count": 87,
     "metadata": {},
     "output_type": "execute_result"
    }
   ],
   "source": [
    "open('done+participants_features.txt', 'w').write('\\n'.join(features_selected))"
   ]
  },
  {
   "cell_type": "code",
   "execution_count": 151,
   "metadata": {
    "collapsed": true
   },
   "outputs": [],
   "source": [
    "import seaborn as sns"
   ]
  },
  {
   "cell_type": "code",
   "execution_count": 172,
   "metadata": {},
   "outputs": [
    {
     "data": {
      "text/plain": [
       "<matplotlib.figure.Figure at 0x7f14cc6f65f8>"
      ]
     },
     "metadata": {},
     "output_type": "display_data"
    }
   ],
   "source": [
    "imp=pd.DataFrame([model.get_booster().get_score(importance_type='gain')]).T.reset_index()\n",
    "imp=imp.sort_values(0, ascending=False).head(50)\n",
    "plt.figure(figsize=(10,10))\n",
    "imp.columns=['features', 'importance']"
   ]
  },
  {
   "cell_type": "code",
   "execution_count": 177,
   "metadata": {
    "collapsed": true
   },
   "outputs": [],
   "source": [
    "features_dict=pd.read_excel('features_dict.xlsx', header=None)"
   ]
  },
  {
   "cell_type": "code",
   "execution_count": 181,
   "metadata": {
    "collapsed": true
   },
   "outputs": [],
   "source": [
    "imp['names']=imp['features'].apply(lambda x: features_dict[features_dict[0]==x][1].values[0])"
   ]
  },
  {
   "cell_type": "code",
   "execution_count": 184,
   "metadata": {
    "scrolled": false
   },
   "outputs": [
    {
     "data": {
      "text/plain": [
       "<matplotlib.axes._subplots.AxesSubplot at 0x7f1328965390>"
      ]
     },
     "execution_count": 184,
     "metadata": {},
     "output_type": "execute_result"
    },
    {
     "data": {
      "image/png": "[encoded data removed]",
      "text/plain": [
       "<matplotlib.figure.Figure at 0x7f14b5e8fd30>"
      ]
     },
     "metadata": {},
     "output_type": "display_data"
    }
   ],
   "source": [
    "plt.figure(figsize=(10,10))\n",
    "sns.set_palette(sns.light_palette((210,100,70), input='husl', n_colors=28, reverse=True))\n",
    "sns.barplot(x=imp['importance'], y=imp['names'])"
   ]
  },
  {
   "cell_type": "markdown",
   "metadata": {},
   "source": [
    "## Подбор гиперпараметров"
   ]
  },
  {
   "cell_type": "code",
   "execution_count": 37,
   "metadata": {
    "collapsed": true
   },
   "outputs": [],
   "source": [
    "from sklearn.model_selection import train_test_split, RandomizedSearchCV, StratifiedKFold, GridSearchCV"
   ]
  },
  {
   "cell_type": "code",
   "execution_count": 38,
   "metadata": {
    "collapsed": true
   },
   "outputs": [],
   "source": [
    "skf=StratifiedKFold(n_splits=3, shuffle=True, random_state=42)"
   ]
  },
  {
   "cell_type": "code",
   "execution_count": null,
   "metadata": {
    "collapsed": true
   },
   "outputs": [],
   "source": [
    "X_train_per, X_test_per, y_train_per, y_test_per=train_test_split(X_train, y_train, train_size=0.7, random_state=42, stratify=y_train)"
   ]
  },
  {
   "cell_type": "code",
   "execution_count": null,
   "metadata": {},
   "outputs": [
    {
     "name": "stdout",
     "output_type": "stream",
     "text": [
      "Fitting 3 folds for each of 20 candidates, totalling 60 fits\n",
      "[CV] max_depth=7, scale_pos_weight=10, gamma=0 .......................\n"
     ]
    },
    {
     "name": "stderr",
     "output_type": "stream",
     "text": [
      "[Parallel(n_jobs=1)]: Using backend SequentialBackend with 1 concurrent workers.\n"
     ]
    },
    {
     "name": "stdout",
     "output_type": "stream",
     "text": [
      "[17:07:45] WARNING: /workspace/src/learner.cc:686: Tree method is automatically selected to be 'approx' for faster speed. To use old behavior (exact greedy algorithm on single machine), set tree_method to 'exact'.\n",
      "[CV]  max_depth=7, scale_pos_weight=10, gamma=0, score=0.4113681877503263, total=34.9min\n"
     ]
    },
    {
     "name": "stderr",
     "output_type": "stream",
     "text": [
      "[Parallel(n_jobs=1)]: Done   1 out of   1 | elapsed: 35.3min remaining:    0.0s\n"
     ]
    },
    {
     "name": "stdout",
     "output_type": "stream",
     "text": [
      "[CV] max_depth=7, scale_pos_weight=10, gamma=0 .......................\n",
      "[17:43:04] WARNING: /workspace/src/learner.cc:686: Tree method is automatically selected to be 'approx' for faster speed. To use old behavior (exact greedy algorithm on single machine), set tree_method to 'exact'.\n",
      "[CV]  max_depth=7, scale_pos_weight=10, gamma=0, score=0.4127861412394994, total=32.7min\n"
     ]
    },
    {
     "name": "stderr",
     "output_type": "stream",
     "text": [
      "[Parallel(n_jobs=1)]: Done   2 out of   2 | elapsed: 68.3min remaining:    0.0s\n"
     ]
    },
    {
     "name": "stdout",
     "output_type": "stream",
     "text": [
      "[CV] max_depth=7, scale_pos_weight=10, gamma=0 .......................\n",
      "[18:16:07] WARNING: /workspace/src/learner.cc:686: Tree method is automatically selected to be 'approx' for faster speed. To use old behavior (exact greedy algorithm on single machine), set tree_method to 'exact'.\n",
      "[CV]  max_depth=7, scale_pos_weight=10, gamma=0, score=0.41236840762334276, total=32.9min\n",
      "[CV] max_depth=4, scale_pos_weight=2.5, gamma=0 ......................\n",
      "[18:49:22] WARNING: /workspace/src/learner.cc:686: Tree method is automatically selected to be 'approx' for faster speed. To use old behavior (exact greedy algorithm on single machine), set tree_method to 'exact'.\n",
      "[CV]  max_depth=4, scale_pos_weight=2.5, gamma=0, score=0.4810486598654381, total=23.0min\n",
      "[CV] max_depth=4, scale_pos_weight=2.5, gamma=0 ......................\n",
      "[19:12:38] WARNING: /workspace/src/learner.cc:686: Tree method is automatically selected to be 'approx' for faster speed. To use old behavior (exact greedy algorithm on single machine), set tree_method to 'exact'.\n",
      "[CV]  max_depth=4, scale_pos_weight=2.5, gamma=0, score=0.48107019253730837, total=23.1min\n",
      "[CV] max_depth=4, scale_pos_weight=2.5, gamma=0 ......................\n",
      "[19:36:08] WARNING: /workspace/src/learner.cc:686: Tree method is automatically selected to be 'approx' for faster speed. To use old behavior (exact greedy algorithm on single machine), set tree_method to 'exact'.\n",
      "[CV]  max_depth=4, scale_pos_weight=2.5, gamma=0, score=0.48165813140572666, total=23.3min\n",
      "[CV] max_depth=5, scale_pos_weight=5, gamma=1 ........................\n",
      "[19:59:45] WARNING: /workspace/src/learner.cc:686: Tree method is automatically selected to be 'approx' for faster speed. To use old behavior (exact greedy algorithm on single machine), set tree_method to 'exact'.\n",
      "[CV]  max_depth=5, scale_pos_weight=5, gamma=1, score=0.4726182592261274, total=26.3min\n",
      "[CV] max_depth=5, scale_pos_weight=5, gamma=1 ........................\n",
      "[20:26:24] WARNING: /workspace/src/learner.cc:686: Tree method is automatically selected to be 'approx' for faster speed. To use old behavior (exact greedy algorithm on single machine), set tree_method to 'exact'.\n",
      "[CV]  max_depth=5, scale_pos_weight=5, gamma=1, score=0.47319032365532154, total=26.2min\n",
      "[CV] max_depth=5, scale_pos_weight=5, gamma=1 ........................\n",
      "[20:52:54] WARNING: /workspace/src/learner.cc:686: Tree method is automatically selected to be 'approx' for faster speed. To use old behavior (exact greedy algorithm on single machine), set tree_method to 'exact'.\n",
      "[CV]  max_depth=5, scale_pos_weight=5, gamma=1, score=0.47315728884059266, total=26.0min\n",
      "[CV] max_depth=8, scale_pos_weight=10, gamma=1 .......................\n",
      "[21:19:15] WARNING: /workspace/src/learner.cc:686: Tree method is automatically selected to be 'approx' for faster speed. To use old behavior (exact greedy algorithm on single machine), set tree_method to 'exact'.\n",
      "[CV]  max_depth=8, scale_pos_weight=10, gamma=1, score=0.41608698615354905, total=36.3min\n",
      "[CV] max_depth=8, scale_pos_weight=10, gamma=1 .......................\n",
      "[21:55:54] WARNING: /workspace/src/learner.cc:686: Tree method is automatically selected to be 'approx' for faster speed. To use old behavior (exact greedy algorithm on single machine), set tree_method to 'exact'.\n",
      "[CV]  max_depth=8, scale_pos_weight=10, gamma=1, score=0.41648894244065887, total=36.2min\n",
      "[CV] max_depth=8, scale_pos_weight=10, gamma=1 .......................\n",
      "[22:32:30] WARNING: /workspace/src/learner.cc:686: Tree method is automatically selected to be 'approx' for faster speed. To use old behavior (exact greedy algorithm on single machine), set tree_method to 'exact'.\n",
      "[CV]  max_depth=8, scale_pos_weight=10, gamma=1, score=0.4160419664598632, total=36.3min\n",
      "[CV] max_depth=7, scale_pos_weight=10, gamma=1 .......................\n",
      "[23:09:11] WARNING: /workspace/src/learner.cc:686: Tree method is automatically selected to be 'approx' for faster speed. To use old behavior (exact greedy algorithm on single machine), set tree_method to 'exact'.\n",
      "[CV]  max_depth=7, scale_pos_weight=10, gamma=1, score=0.4113675095159113, total=32.8min\n",
      "[CV] max_depth=7, scale_pos_weight=10, gamma=1 .......................\n",
      "[23:42:23] WARNING: /workspace/src/learner.cc:686: Tree method is automatically selected to be 'approx' for faster speed. To use old behavior (exact greedy algorithm on single machine), set tree_method to 'exact'.\n",
      "[CV]  max_depth=7, scale_pos_weight=10, gamma=1, score=0.41272925199566823, total=32.9min\n",
      "[CV] max_depth=7, scale_pos_weight=10, gamma=1 .......................\n",
      "[00:15:36] WARNING: /workspace/src/learner.cc:686: Tree method is automatically selected to be 'approx' for faster speed. To use old behavior (exact greedy algorithm on single machine), set tree_method to 'exact'.\n",
      "[CV]  max_depth=7, scale_pos_weight=10, gamma=1, score=0.41236852388688305, total=32.8min\n",
      "[CV] max_depth=5, scale_pos_weight=3, gamma=2 ........................\n",
      "[00:48:45] WARNING: /workspace/src/learner.cc:686: Tree method is automatically selected to be 'approx' for faster speed. To use old behavior (exact greedy algorithm on single machine), set tree_method to 'exact'.\n",
      "[CV]  max_depth=5, scale_pos_weight=3, gamma=2, score=0.4913072072708087, total=25.9min\n",
      "[CV] max_depth=5, scale_pos_weight=3, gamma=2 ........................\n",
      "[01:15:05] WARNING: /workspace/src/learner.cc:686: Tree method is automatically selected to be 'approx' for faster speed. To use old behavior (exact greedy algorithm on single machine), set tree_method to 'exact'.\n",
      "[CV]  max_depth=5, scale_pos_weight=3, gamma=2, score=0.4918358735679214, total=26.1min\n",
      "[CV] max_depth=5, scale_pos_weight=3, gamma=2 ........................\n",
      "[01:41:32] WARNING: /workspace/src/learner.cc:686: Tree method is automatically selected to be 'approx' for faster speed. To use old behavior (exact greedy algorithm on single machine), set tree_method to 'exact'.\n",
      "[CV]  max_depth=5, scale_pos_weight=3, gamma=2, score=0.49198812898417643, total=26.1min\n",
      "[CV] max_depth=9, scale_pos_weight=5, gamma=3 ........................\n",
      "[02:07:58] WARNING: /workspace/src/learner.cc:686: Tree method is automatically selected to be 'approx' for faster speed. To use old behavior (exact greedy algorithm on single machine), set tree_method to 'exact'.\n"
     ]
    }
   ],
   "source": [
    "xgb = XGBClassifier(seed = 42, nthread=-1)\n",
    "params = {\n",
    "    'gamma': [0, 0.5, 1, 1.5, 2, 3],\n",
    "    'max_depth': [3, 4, 5, 6, 7, 8, 9, 10],\n",
    "    'scale_pos_weight': [1.5, 2.5, 3, 5, 10]\n",
    "}\n",
    "\n",
    "random_search = RandomizedSearchCV(xgb, param_distributions=params, n_iter=20, scoring='f1', n_jobs=1, \n",
    "                                   cv=skf.split(X_train_per[features_selected].astype(float), y_train_per), verbose=3, random_state=42)\n",
    "random_search.fit(X_train_per[features_selected].astype(float), y_train_per)"
   ]
  },
  {
   "cell_type": "markdown",
   "metadata": {},
   "source": [
    "## Обучение модели"
   ]
  },
  {
   "cell_type": "markdown",
   "metadata": {},
   "source": [
    "Тестировались варианты отбора признаков по average_precision, f1 и precision. На лучших обучена модель:"
   ]
  },
  {
   "cell_type": "code",
   "execution_count": 207,
   "metadata": {
    "collapsed": true
   },
   "outputs": [],
   "source": [
    "model=XGBClassifier(base_score=0.5, booster='gbtree', colsample_bylevel=1,\n",
    "       colsample_bynode=1, colsample_bytree=1, gamma=0, learning_rate=0.1,\n",
    "       max_delta_step=0, max_depth=5, min_child_weight=1, missing=None,\n",
    "       n_estimators=100, nthread=-1, objective='binary:logistic',\n",
    "       reg_lambda=1, scale_pos_weight=3,\n",
    "       seed=42, silent=None, subsample=1, verbosity=1)"
   ]
  },
  {
   "cell_type": "code",
   "execution_count": 208,
   "metadata": {},
   "outputs": [
    {
     "name": "stdout",
     "output_type": "stream",
     "text": [
      "[06:48:59] WARNING: /workspace/src/learner.cc:686: Tree method is automatically selected to be 'approx' for faster speed. To use old behavior (exact greedy algorithm on single machine), set tree_method to 'exact'.\n"
     ]
    },
    {
     "data": {
      "text/plain": [
       "XGBClassifier(base_score=0.5, booster='gbtree', colsample_bylevel=1,\n",
       "       colsample_bynode=1, colsample_bytree=1, gamma=0, learning_rate=0.1,\n",
       "       max_delta_step=0, max_depth=5, min_child_weight=1, missing=None,\n",
       "       n_estimators=100, n_jobs=1, nthread=-1, objective='binary:logistic',\n",
       "       random_state=0, reg_alpha=0, reg_lambda=1, scale_pos_weight=3,\n",
       "       seed=42, silent=None, subsample=1, verbosity=1)"
      ]
     },
     "execution_count": 208,
     "metadata": {},
     "output_type": "execute_result"
    }
   ],
   "source": [
    "model.fit(X_train[features_selected].astype(float), y_train)"
   ]
  },
  {
   "cell_type": "code",
   "execution_count": 211,
   "metadata": {
    "collapsed": true
   },
   "outputs": [],
   "source": [
    "predictions=model.predict(X_test[features_selected].astype(float))\n",
    "probs=model.predict_proba(X_test[features_selected].astype(float))[:, 1]"
   ]
  },
  {
   "cell_type": "code",
   "execution_count": 212,
   "metadata": {},
   "outputs": [
    {
     "name": "stdout",
     "output_type": "stream",
     "text": [
      "              precision    recall  f1-score   support\n",
      "\n",
      "           0    0.95622   0.95577   0.95599   8321083\n",
      "           1    0.50764   0.51030   0.50896    743594\n",
      "\n",
      "   micro avg    0.91923   0.91923   0.91923   9064677\n",
      "   macro avg    0.73193   0.73303   0.73248   9064677\n",
      "weighted avg    0.91942   0.91923   0.91932   9064677\n",
      "\n",
      "На отложенной тестовой выборке: \n",
      "Precision: 0.50764, Recall: 0.51030, F_мера: 0.50896\n"
     ]
    }
   ],
   "source": [
    "recall_ts, precision_ts, f1_ts =  get_metrics(predictions.astype(int), y_test.astype(int))\n",
    "                                                  \n",
    "print('На отложенной тестовой выборке: ')\n",
    "print('Precision: %7.5f, Recall: %7.5f, F_мера: %7.5f' % \n",
    "(precision_ts, recall_ts, f1_ts))"
   ]
  },
  {
   "cell_type": "code",
   "execution_count": 213,
   "metadata": {
    "collapsed": true
   },
   "outputs": [],
   "source": [
    "p=Plot()"
   ]
  },
  {
   "cell_type": "code",
   "execution_count": 214,
   "metadata": {},
   "outputs": [
    {
     "data": {
      "image/png": "[encoded data removed]",
      "text/plain": [
       "<matplotlib.figure.Figure at 0x7f13fb092b38>"
      ]
     },
     "metadata": {},
     "output_type": "display_data"
    }
   ],
   "source": [
    "p.precision_recall_curve(y_test, probs)"
   ]
  },
  {
   "cell_type": "code",
   "execution_count": 217,
   "metadata": {},
   "outputs": [
    {
     "name": "stdout",
     "output_type": "stream",
     "text": [
      "Cross point:  49\n"
     ]
    },
    {
     "data": {
      "image/png": "[encoded data removed]",
      "text/plain": [
       "<matplotlib.figure.Figure at 0x7f1400c1af28>"
      ]
     },
     "metadata": {},
     "output_type": "display_data"
    }
   ],
   "source": [
    "p.precision_recall_threshold_curve(y_test, probs)"
   ]
  },
  {
   "cell_type": "code",
   "execution_count": 220,
   "metadata": {},
   "outputs": [
    {
     "data": {
      "text/plain": [
       "['xgboost_more_data_done.pkl']"
      ]
     },
     "execution_count": 220,
     "metadata": {},
     "output_type": "execute_result"
    }
   ],
   "source": [
    "joblib.dump(model, 'xgboost_more_data_done.pkl')"
   ]
  },
  {
   "cell_type": "markdown",
   "metadata": {},
   "source": [
    "### Тестирование на каждом месяце"
   ]
  },
  {
   "cell_type": "code",
   "execution_count": 247,
   "metadata": {
    "collapsed": true
   },
   "outputs": [],
   "source": [
    "model=joblib.load('xgboost_more_data_done.pkl')"
   ]
  },
  {
   "cell_type": "code",
   "execution_count": 248,
   "metadata": {
    "collapsed": true
   },
   "outputs": [],
   "source": [
    "test_month=['2019-06', '2019-07', '2019-08']"
   ]
  },
  {
   "cell_type": "code",
   "execution_count": 250,
   "metadata": {
    "scrolled": false
   },
   "outputs": [
    {
     "name": "stdout",
     "output_type": "stream",
     "text": [
      "              precision    recall  f1-score   support\n",
      "\n",
      "           0    0.95382   0.95089   0.95235   2572486\n",
      "           1    0.49840   0.51452   0.50633    243965\n",
      "\n",
      "   micro avg    0.91309   0.91309   0.91309   2816451\n",
      "   macro avg    0.72611   0.73270   0.72934   2816451\n",
      "weighted avg    0.91437   0.91309   0.91372   2816451\n",
      "\n",
      "На отложенной тестовой выборке: \n",
      "Precision: 0.49840, Recall: 0.51452, F_мера: 0.50633\n",
      "              precision    recall  f1-score   support\n",
      "\n",
      "           0    0.95728   0.95652   0.95690   3396312\n",
      "           1    0.50631   0.51091   0.50860    296394\n",
      "\n",
      "   micro avg    0.92076   0.92076   0.92076   3692706\n",
      "   macro avg    0.73180   0.73372   0.73275   3692706\n",
      "weighted avg    0.92109   0.92076   0.92092   3692706\n",
      "\n",
      "На отложенной тестовой выборке: \n",
      "Precision: 0.50631, Recall: 0.51091, F_мера: 0.50860\n",
      "              precision    recall  f1-score   support\n",
      "\n",
      "           0    0.95730   0.96002   0.95866   2352285\n",
      "           1    0.52151   0.50433   0.51278    203235\n",
      "\n",
      "   micro avg    0.92378   0.92378   0.92378   2555520\n",
      "   macro avg    0.73940   0.73217   0.73572   2555520\n",
      "weighted avg    0.92264   0.92378   0.92320   2555520\n",
      "\n",
      "На отложенной тестовой выборке: \n",
      "Precision: 0.52151, Recall: 0.50433, F_мера: 0.51278\n"
     ]
    }
   ],
   "source": [
    "for month in test_month:\n",
    "    X_test, y_test = df[df.month_year==month][features_selected], df[df.month_year==month]['responce'] \n",
    "    predictions=model.predict(X_test[features_selected].astype(float))\n",
    "    probs=model.predict_proba(X_test[features_selected].astype(float))[:, 1]\n",
    "    recall_ts, precision_ts, f1_ts =  get_metrics(predictions.astype(int), y_test.astype(int))\n",
    "\n",
    "    print('На отложенной тестовой выборке: ')\n",
    "    print('Precision: %7.5f, Recall: %7.5f, F_мера: %7.5f' % \n",
    "    (precision_ts, recall_ts, f1_ts))"
   ]
  },
  {
   "cell_type": "markdown",
   "metadata": {},
   "source": [
    "## Выбор порога вероятности"
   ]
  },
  {
   "cell_type": "code",
   "execution_count": 223,
   "metadata": {},
   "outputs": [
    {
     "data": {
      "image/png": "[encoded data removed]",
      "text/plain": [
       "<matplotlib.figure.Figure at 0x7f13fac90f28>"
      ]
     },
     "metadata": {},
     "output_type": "display_data"
    }
   ],
   "source": [
    "from sklearn.preprocessing import binarize\n",
    "from matplotlib_venn import venn2\n",
    "import seaborn as sns\n",
    "colors=sns.color_palette('hls', 10)\n",
    "sns.palplot(colors)"
   ]
  },
  {
   "cell_type": "code",
   "execution_count": 230,
   "metadata": {
    "scrolled": false
   },
   "outputs": [
    {
     "name": "stdout",
     "output_type": "stream",
     "text": [
      "0.4\n",
      "Precision:    0.40, Recall:    0.63, F_мера:    0.49\n",
      "0.5\n",
      "Precision:    0.51, Recall:    0.51, F_мера:    0.51\n",
      "0.6\n",
      "Precision:    0.57, Recall:    0.44, F_мера:    0.50\n",
      "0.75\n",
      "Precision:    0.66, Recall:    0.30, F_мера:    0.41\n",
      "0.8\n",
      "Precision:    0.71, Recall:    0.18, F_мера:    0.29\n"
     ]
    },
    {
     "data": {
      "image/png": "[encoded data removed]",
      "text/plain": [
       "<matplotlib.figure.Figure at 0x7f13fab6d470>"
      ]
     },
     "metadata": {},
     "output_type": "display_data"
    },
    {
     "data": {
      "image/png": "[encoded data removed]",
      "text/plain": [
       "<matplotlib.figure.Figure at 0x7f13ec972128>"
      ]
     },
     "metadata": {},
     "output_type": "display_data"
    },
    {
     "data": {
      "image/png": "[encoded data removed]",
      "text/plain": [
       "<matplotlib.figure.Figure at 0x7f1463759ac8>"
      ]
     },
     "metadata": {},
     "output_type": "display_data"
    },
    {
     "data": {
      "image/png": "[encoded data removed]",
      "text/plain": [
       "<matplotlib.figure.Figure at 0x7f13eeb885c0>"
      ]
     },
     "metadata": {},
     "output_type": "display_data"
    },
    {
     "data": {
      "image/png": "[encoded data removed]",
      "text/plain": [
       "<matplotlib.figure.Figure at 0x7f13f060b4a8>"
      ]
     },
     "metadata": {},
     "output_type": "display_data"
    }
   ],
   "source": [
    "thresholds = [0.4, 0.5, 0.6,  0.75, 0.8]\n",
    "cnt=1\n",
    "for t in thresholds:\n",
    "    pred = binarize(probs.reshape(-1,1), threshold=t).reshape(-1)\n",
    "    \n",
    "    recall = recall_score(y_test, pred)\n",
    "    precision=precision_score(y_test, pred)\n",
    "    f1=f1_score(y_test, pred)\n",
    "    print(t)\n",
    "    print('Precision: %7.2f, Recall: %7.2f, F_мера: %7.2f' % (precision, recall, f1))\n",
    "    \n",
    "    preds=pd.DataFrame({'prediction':pred, 'response': y_test})\n",
    "    predictions=preds[preds.prediction==1].prediction.to_dict().items()\n",
    "    test=preds[preds.response==1].response.to_dict().items()\n",
    "    plt.figure(num=cnt, figsize=(8,5))\n",
    "    cnt+=1\n",
    "    ven=venn2([set(predictions), set(test)], set_labels=['предсказанные\\nучастники', 'реальные\\nучастники'], set_colors=[colors[7], colors[5]])\n",
    "    for text in ven.subset_labels:\n",
    "        text.set_fontsize(15)"
   ]
  },
  {
   "cell_type": "code",
   "execution_count": null,
   "metadata": {
    "collapsed": true
   },
   "outputs": [],
   "source": []
  }
 ],
 "metadata": {
  "kernelspec": {
   "display_name": "Python 3",
   "language": "python",
   "name": "python3"
  },
  "language_info": {
   "codemirror_mode": {
    "name": "ipython",
    "version": 3
   },
   "file_extension": ".py",
   "mimetype": "text/x-python",
   "name": "python",
   "nbconvert_exporter": "python",
   "pygments_lexer": "ipython3",
   "version": "3.7.4"
  }
 },
 "nbformat": 4,
 "nbformat_minor": 2
}
