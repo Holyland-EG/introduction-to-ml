{
 "cells": [
  {
   "cell_type": "code",
   "execution_count": 1,
   "metadata": {},
   "outputs": [],
   "source": [
    "import pandas as pd\n",
    "from sklearn.neighbors import KNeighborsClassifier\n",
    "from sklearn.model_selection import cross_val_score, KFold\n",
    "import numpy as np"
   ]
  },
  {
   "cell_type": "code",
   "execution_count": 2,
   "metadata": {},
   "outputs": [],
   "source": [
    "data = pd.read_csv('wine.data', names = ['Label','Alcohol','Malic acid','Ash',\n",
    "                                  'Alcalinity of ash','Magnesium','Total phenols',\n",
    "                                  'Flavanoids','Nonflavanoid phenols','Proanthocyanins',\n",
    "                                  'Color intensity','Hue','OD280/OD315 of diluted wines',\n",
    "                                  'Proline'], index_col = None)"
   ]
  },
  {
   "cell_type": "code",
   "execution_count": 3,
   "metadata": {},
   "outputs": [],
   "source": [
    "kfold = KFold(n_splits=5,shuffle=True,random_state=42)"
   ]
  },
  {
   "cell_type": "code",
   "execution_count": 4,
   "metadata": {},
   "outputs": [
    {
     "name": "stdout",
     "output_type": "stream",
     "text": [
      "[0.73, 0.66, 0.71, 0.66, 0.67, 0.67, 0.68, 0.68, 0.7, 0.68, 0.7, 0.7, 0.69, 0.68, 0.7, 0.68, 0.7, 0.68, 0.68, 0.69, 0.7, 0.7, 0.7, 0.71, 0.7, 0.7, 0.7, 0.71, 0.71, 0.71, 0.69, 0.71, 0.71, 0.72, 0.72, 0.71, 0.71, 0.71, 0.71, 0.71, 0.71, 0.71, 0.71, 0.71, 0.71, 0.71, 0.7, 0.72, 0.7, 0.71]\n"
     ]
    }
   ],
   "source": [
    "score = []\n",
    "for k in range(1,51):\n",
    "    #create a new KNN model\n",
    "    knn = KNeighborsClassifier(n_neighbors=k)\n",
    "\n",
    "    #train model with cv of 5 \n",
    "    cv_scores = cross_val_score(knn, data[['Alcohol','Malic acid','Ash',\n",
    "                                  'Alcalinity of ash','Magnesium','Total phenols',\n",
    "                                  'Flavanoids','Nonflavanoid phenols','Proanthocyanins',\n",
    "                                  'Color intensity','Hue','OD280/OD315 of diluted wines',\n",
    "                                  'Proline']], data['Label'], cv=kfold, scoring='accuracy')\n",
    "    #print each cv score (accuracy) and average them\n",
    "    score.append(round(np.mean(cv_scores),2))\n",
    "print(score)"
   ]
  },
  {
   "cell_type": "code",
   "execution_count": 23,
   "metadata": {},
   "outputs": [],
   "source": [
    "with open('1file.txt','w') as t:\n",
    "    t.write(str(max(score)))"
   ]
  },
  {
   "cell_type": "code",
   "execution_count": 14,
   "metadata": {},
   "outputs": [],
   "source": [
    "from sklearn.preprocessing import scale"
   ]
  },
  {
   "cell_type": "code",
   "execution_count": 15,
   "metadata": {},
   "outputs": [],
   "source": [
    "X_scaled = scale(data[['Alcohol','Malic acid','Ash',\n",
    "                                  'Alcalinity of ash','Magnesium','Total phenols',\n",
    "                                  'Flavanoids','Nonflavanoid phenols','Proanthocyanins',\n",
    "                                  'Color intensity','Hue','OD280/OD315 of diluted wines',\n",
    "                                  'Proline']])"
   ]
  },
  {
   "cell_type": "code",
   "execution_count": 16,
   "metadata": {},
   "outputs": [
    {
     "name": "stdout",
     "output_type": "stream",
     "text": [
      "[0.94, 0.93, 0.96, 0.94, 0.95, 0.95, 0.95, 0.96, 0.96, 0.96, 0.96, 0.96, 0.95, 0.97, 0.97, 0.97, 0.97, 0.97, 0.96, 0.97, 0.96, 0.97, 0.96, 0.96, 0.96, 0.96, 0.96, 0.97, 0.98, 0.96, 0.96, 0.96, 0.97, 0.97, 0.96, 0.96, 0.96, 0.96, 0.96, 0.96, 0.97, 0.96, 0.97, 0.96, 0.97, 0.95, 0.96, 0.95, 0.96, 0.96]\n"
     ]
    }
   ],
   "source": [
    "score = []\n",
    "for k in range(1,51):\n",
    "    #create a new KNN model\n",
    "    knn = KNeighborsClassifier(n_neighbors=k)\n",
    "\n",
    "    #train model with cv of 5 \n",
    "    cv_scores = cross_val_score(knn, X_scaled, data['Label'], cv=kfold, scoring='accuracy')\n",
    "    #print each cv score (accuracy) and average them\n",
    "    score.append(round(np.mean(cv_scores),2))\n",
    "print(score)"
   ]
  },
  {
   "cell_type": "code",
   "execution_count": 17,
   "metadata": {},
   "outputs": [
    {
     "data": {
      "text/plain": [
       "28"
      ]
     },
     "execution_count": 17,
     "metadata": {},
     "output_type": "execute_result"
    }
   ],
   "source": [
    "np.argmax(score)"
   ]
  },
  {
   "cell_type": "code",
   "execution_count": 25,
   "metadata": {},
   "outputs": [
    {
     "data": {
      "text/plain": [
       "<function list.index(value, start=0, stop=9223372036854775807, /)>"
      ]
     },
     "execution_count": 25,
     "metadata": {},
     "output_type": "execute_result"
    }
   ],
   "source": [
    "score.index"
   ]
  },
  {
   "cell_type": "code",
   "execution_count": null,
   "metadata": {},
   "outputs": [],
   "source": []
  }
 ],
 "metadata": {
  "kernelspec": {
   "display_name": "Python 3",
   "language": "python",
   "name": "python3"
  },
  "language_info": {
   "codemirror_mode": {
    "name": "ipython",
    "version": 3
   },
   "file_extension": ".py",
   "mimetype": "text/x-python",
   "name": "python",
   "nbconvert_exporter": "python",
   "pygments_lexer": "ipython3",
   "version": "3.7.4"
  }
 },
 "nbformat": 4,
 "nbformat_minor": 2
}
