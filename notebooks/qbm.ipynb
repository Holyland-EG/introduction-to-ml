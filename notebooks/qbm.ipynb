{
 "cells": [
  {
   "cell_type": "code",
   "execution_count": 12,
   "metadata": {},
   "outputs": [],
   "source": [
    "import pandas as pd\n",
    "import numpy as np"
   ]
  },
  {
   "cell_type": "code",
   "execution_count": 2,
   "metadata": {},
   "outputs": [],
   "source": [
    "from sklearn.ensemble import GradientBoostingClassifier"
   ]
  },
  {
   "cell_type": "code",
   "execution_count": 3,
   "metadata": {},
   "outputs": [],
   "source": [
    "from sklearn.model_selection import train_test_split"
   ]
  },
  {
   "cell_type": "code",
   "execution_count": 4,
   "metadata": {},
   "outputs": [],
   "source": [
    "from sklearn.metrics import log_loss"
   ]
  },
  {
   "cell_type": "code",
   "execution_count": 5,
   "metadata": {},
   "outputs": [],
   "source": [
    "import matplotlib.pyplot as plt\n",
    "%matplotlib inline"
   ]
  },
  {
   "cell_type": "code",
   "execution_count": 6,
   "metadata": {},
   "outputs": [],
   "source": [
    "data = pd.read_csv('_75fb7a1b6f3431b6217cdbcba2fd30b9_gbm-data.csv')"
   ]
  },
  {
   "cell_type": "code",
   "execution_count": 7,
   "metadata": {},
   "outputs": [],
   "source": [
    "target = data['Activity'].values"
   ]
  },
  {
   "cell_type": "code",
   "execution_count": 8,
   "metadata": {},
   "outputs": [],
   "source": [
    "data = data.drop(['Activity'], axis=1).values"
   ]
  },
  {
   "cell_type": "code",
   "execution_count": 9,
   "metadata": {},
   "outputs": [],
   "source": [
    "X_train, X_test, y_train, y_test = train_test_split(data, target, \n",
    "                                      test_size=0.8, \n",
    "                                      random_state=241)"
   ]
  },
  {
   "cell_type": "code",
   "execution_count": 16,
   "metadata": {
    "collapsed": true
   },
   "outputs": [
    {
     "name": "stdout",
     "output_type": "stream",
     "text": [
      "      Iter       Train Loss   Remaining Time \n",
      "         1           1.0190           16.68s\n",
      "         2           0.9192           15.86s\n",
      "         3           0.8272           14.72s\n",
      "         4           0.7834           14.41s\n",
      "         5           0.7109           14.11s\n",
      "         6           0.6368           14.13s\n",
      "         7           0.5797           13.94s\n",
      "         8           0.5610           13.62s\n",
      "         9           0.5185           13.65s\n",
      "        10           0.4984           13.79s\n",
      "        20           0.1999           14.99s\n",
      "        30           0.1313           13.82s\n",
      "        40           0.0790           12.70s\n",
      "        50           0.0511           11.86s\n",
      "        60           0.0352           11.08s\n",
      "        70           0.0245           10.69s\n",
      "        80           0.0162            9.97s\n",
      "        90           0.0114            9.23s\n",
      "       100           0.0077            8.65s\n",
      "       200           0.0004            2.66s\n",
      "1.3692143923356304\n",
      "0.5822942594278475\n"
     ]
    },
    {
     "data": {
      "image/png": "[encoded data removed]",
      "text/plain": [
       "<Figure size 432x288 with 1 Axes>"
      ]
     },
     "metadata": {
      "needs_background": "light"
     },
     "output_type": "display_data"
    },
    {
     "name": "stdout",
     "output_type": "stream",
     "text": [
      "      Iter       Train Loss   Remaining Time \n",
      "         1           1.1255           15.10s\n",
      "         2           1.0035           15.12s\n",
      "         3           0.9386           15.31s\n",
      "         4           0.8844           14.63s\n",
      "         5           0.8381           14.30s\n",
      "         6           0.7995           13.82s\n",
      "         7           0.7559           13.81s\n",
      "         8           0.7205           13.76s\n",
      "         9           0.6958           13.96s\n",
      "        10           0.6725           13.78s\n",
      "        20           0.4672           13.70s\n",
      "        30           0.3179           13.32s\n",
      "        40           0.2274           13.73s\n",
      "        50           0.1774           13.08s\n",
      "        60           0.1394           12.21s\n",
      "        70           0.1050           11.41s\n",
      "        80           0.0805           10.75s\n",
      "        90           0.0650           10.06s\n",
      "       100           0.0511            9.40s\n",
      "       200           0.0058            2.91s\n",
      "1.0046672135914019\n",
      "0.5560965876181979\n"
     ]
    },
    {
     "data": {
      "image/png": "[encoded data removed]",
      "text/plain": [
       "<Figure size 432x288 with 1 Axes>"
      ]
     },
     "metadata": {
      "needs_background": "light"
     },
     "output_type": "display_data"
    },
    {
     "name": "stdout",
     "output_type": "stream",
     "text": [
      "      Iter       Train Loss   Remaining Time \n",
      "         1           1.2095           16.13s\n",
      "         2           1.1006           15.72s\n",
      "         3           1.0240           15.59s\n",
      "         4           0.9729           15.90s\n",
      "         5           0.9387           15.15s\n",
      "         6           0.8948           15.13s\n",
      "         7           0.8621           14.78s\n",
      "         8           0.8360           14.47s\n",
      "         9           0.8171           14.15s\n",
      "        10           0.7883           13.97s\n",
      "        20           0.6164           12.48s\n",
      "        30           0.4933           11.76s\n",
      "        40           0.4248           10.95s\n",
      "        50           0.3345           10.45s\n",
      "        60           0.2760            9.89s\n",
      "        70           0.2263            9.38s\n",
      "        80           0.1971            8.79s\n",
      "        90           0.1693            8.26s\n",
      "       100           0.1388            7.78s\n",
      "       200           0.0294            2.57s\n",
      "0.7937713772999462\n",
      "0.5432596932316428\n"
     ]
    },
    {
     "data": {
      "image/png": "[encoded data removed]",
      "text/plain": [
       "<Figure size 432x288 with 1 Axes>"
      ]
     },
     "metadata": {
      "needs_background": "light"
     },
     "output_type": "display_data"
    },
    {
     "name": "stdout",
     "output_type": "stream",
     "text": [
      "      Iter       Train Loss   Remaining Time \n",
      "         1           1.2613           15.11s\n",
      "         2           1.1715           15.17s\n",
      "         3           1.1009           15.07s\n",
      "         4           1.0529           15.41s\n",
      "         5           1.0130           15.67s\n",
      "         6           0.9740           15.46s\n",
      "         7           0.9475           14.83s\n",
      "         8           0.9197           14.90s\n",
      "         9           0.8979           14.73s\n",
      "        10           0.8730           14.60s\n",
      "        20           0.7207           13.96s\n",
      "        30           0.6055           12.76s\n",
      "        40           0.5244           12.11s\n",
      "        50           0.4501           11.49s\n",
      "        60           0.3908           11.21s\n",
      "        70           0.3372           10.60s\n",
      "        80           0.3009            9.89s\n",
      "        90           0.2603            9.37s\n",
      "       100           0.2327            8.73s\n",
      "       200           0.0835            2.84s\n",
      "0.6576776650423739\n",
      "36\n",
      "0.5314949511258739\n"
     ]
    },
    {
     "data": {
      "image/png": "[encoded data removed]",
      "text/plain": [
       "<Figure size 432x288 with 1 Axes>"
      ]
     },
     "metadata": {
      "needs_background": "light"
     },
     "output_type": "display_data"
    },
    {
     "name": "stdout",
     "output_type": "stream",
     "text": [
      "      Iter       Train Loss   Remaining Time \n",
      "         1           1.3199           15.64s\n",
      "         2           1.2645           15.32s\n",
      "         3           1.2170           15.11s\n",
      "         4           1.1775           15.44s\n",
      "         5           1.1404           15.28s\n",
      "         6           1.1106           15.15s\n",
      "         7           1.0844           15.02s\n",
      "         8           1.0617           15.08s\n",
      "         9           1.0411           15.09s\n",
      "        10           1.0223           14.96s\n",
      "        20           0.8864           13.65s\n",
      "        30           0.7844           12.49s\n",
      "        40           0.7176           11.62s\n",
      "        50           0.6590           10.87s\n",
      "        60           0.6120           10.23s\n",
      "        70           0.5599            9.64s\n",
      "        80           0.5242            9.03s\n",
      "        90           0.4829            8.47s\n",
      "       100           0.4473            7.92s\n",
      "       200           0.2379            2.62s\n",
      "0.6656662128911628\n",
      "0.5254924770369842\n"
     ]
    },
    {
     "data": {
      "image/png": "[encoded data removed]",
      "text/plain": [
       "<Figure size 432x288 with 1 Axes>"
      ]
     },
     "metadata": {
      "needs_background": "light"
     },
     "output_type": "display_data"
    }
   ],
   "source": [
    "learning_rate = [1, 0.5, 0.3, 0.2, 0.1]\n",
    "for i in range(5):\n",
    "    model = GradientBoostingClassifier(n_estimators=250, verbose=True, random_state=241, \n",
    "                                       learning_rate=learning_rate[i])\n",
    "    model.fit(X_train, y_train)\n",
    "    \n",
    "    test_loss = np.empty(250)\n",
    "    \n",
    "    y_pred = model.predict(X_test)\n",
    "    \n",
    "    for iter_, y_pred in enumerate(model.staged_decision_function(X_test)):\n",
    "        y_pred_test = 1.0/(1.0 + np.exp(-y_pred))\n",
    "        test_loss[iter_] = log_loss(y_test, y_pred_test)\n",
    "        \n",
    "    print(test_loss.max())\n",
    "    if learning_rate[i]==0.2:\n",
    "        print(min(range(len(test_loss)), key=test_loss.__getitem__))\n",
    "    print(test_loss.min())\n",
    "\n",
    "    plt.figure()\n",
    "    plt.plot(test_loss, 'r', linewidth=2)\n",
    "    plt.show()"
   ]
  },
  {
   "cell_type": "code",
   "execution_count": 18,
   "metadata": {
    "collapsed": true
   },
   "outputs": [
    {
     "name": "stdout",
     "output_type": "stream",
     "text": [
      "      Iter       Train Loss   Remaining Time \n",
      "         1           1.3199            4.30s\n",
      "         2           1.2645            4.40s\n",
      "         3           1.2170            4.17s\n",
      "         4           1.1775            4.09s\n",
      "         5           1.1404            4.04s\n",
      "         6           1.1106            4.03s\n",
      "         7           1.0844            4.18s\n",
      "         8           1.0617            4.02s\n",
      "         9           1.0411            3.89s\n",
      "        10           1.0223            3.74s\n",
      "        20           0.8864            2.27s\n",
      "        30           0.7844            0.80s\n",
      "0.530072698085972\n"
     ]
    }
   ],
   "source": [
    "model = GradientBoostingClassifier(n_estimators=36, verbose=True, random_state=241)\n",
    "model.fit(X_train, y_train)\n",
    "\n",
    "test_loss = np.empty(36)\n",
    "\n",
    "y_pred = model.predict_proba(X_test)\n",
    "\n",
    "print(log_loss(y_test, y_pred))"
   ]
  },
  {
   "cell_type": "code",
   "execution_count": null,
   "metadata": {},
   "outputs": [],
   "source": []
  }
 ],
 "metadata": {
  "kernelspec": {
   "display_name": "Python 3",
   "language": "python",
   "name": "python3"
  },
  "language_info": {
   "codemirror_mode": {
    "name": "ipython",
    "version": 3
   },
   "file_extension": ".py",
   "mimetype": "text/x-python",
   "name": "python",
   "nbconvert_exporter": "python",
   "pygments_lexer": "ipython3",
   "version": "3.7.4"
  }
 },
 "nbformat": 4,
 "nbformat_minor": 2
}
